{
 "cells": [
  {
   "cell_type": "code",
   "execution_count": 9,
   "id": "d98d8865-a863-49d3-b9c7-5a75b5699530",
   "metadata": {},
   "outputs": [
    {
     "name": "stdout",
     "output_type": "stream",
     "text": [
      "Using device: cuda\n",
      "Found speaker audio file: /home/tdamen/jasmin-data/Data/data/audio/wav/comp-q/vl/fv170099.wav\n",
      "Initializing TTS model...\n",
      " > tts_models/multilingual/multi-dataset/xtts_v2 is already downloaded.\n",
      " > Using model: xtts\n",
      "TTS model initialized successfully.\n",
      "Synthesizing speech to: output_speech.wav\n",
      " > Text splitted to sentences.\n",
      "['Doormiddel van dit programma wil ik er achter komen welke phonemen ik moeite heb']\n",
      " > Processing time: 2.1252331733703613\n",
      " > Real-time factor: 0.27156578275855625\n",
      "Speech successfully saved to output_speech.wav\n"
     ]
    }
   ],
   "source": [
    "import torch\n",
    "from TTS.api import TTS\n",
    "import os\n",
    "import torch.serialization # Import torch.serialization\n",
    "\n",
    "# --- Import the necessary config and args classes ---\n",
    "# Import the specific classes that PyTorch needs to load safely\n",
    "from TTS.tts.configs.xtts_config import XttsConfig\n",
    "from TTS.tts.models.xtts import XttsAudioConfig, XttsArgs # <-- Import XttsArgs here\n",
    "from TTS.config.shared_configs import BaseDatasetConfig\n",
    "\n",
    "# --- Add the classes to PyTorch's safe globals ---\n",
    "# This tells PyTorch it's okay to load these specific class structures\n",
    "# Add all identified classes to the list\n",
    "torch.serialization.add_safe_globals([\n",
    "    XttsConfig,\n",
    "    XttsAudioConfig,\n",
    "    BaseDatasetConfig,\n",
    "    XttsArgs # <-- Add XttsArgs to the list\n",
    "])\n",
    "# --------------------------------------------------------\n",
    "\n",
    "# Get device\n",
    "device = \"cuda\" if torch.cuda.is_available() else \"cpu\"\n",
    "print(f\"Using device: {device}\")\n",
    "\n",
    "# --- Define your audio path ---\n",
    "# Make sure this path points to your reference audio file\n",
    "speaker_wav_path = \"/home/tdamen/jasmin-data/Data/data/audio/wav/comp-q/vl/fv170099.wav\"\n",
    "\n",
    "# --- Define your output path ---\n",
    "output_wav_path = \"output_speech.wav\" # You can change this if needed\n",
    "\n",
    "# --- Check if the speaker audio file exists ---\n",
    "if not os.path.exists(speaker_wav_path):\n",
    "    print(f\"ERROR: Speaker audio file not found at: {speaker_wav_path}\")\n",
    "    print(\"Please make sure the path is correct and the file exists.\")\n",
    "else:\n",
    "    print(f\"Found speaker audio file: {speaker_wav_path}\")\n",
    "\n",
    "    # --- Initialize TTS ---\n",
    "    # Now this should work because you've allowed all necessary classes\n",
    "    print(\"Initializing TTS model...\")\n",
    "    try:\n",
    "        tts = TTS(\"tts_models/multilingual/multi-dataset/xtts_v2\").to(device)\n",
    "        print(\"TTS model initialized successfully.\")\n",
    "\n",
    "        # --- Run TTS for voice cloning ---\n",
    "        print(f\"Synthesizing speech to: {output_wav_path}\")\n",
    "        tts.tts_to_file(\n",
    "            text=\"Doormiddel van dit programma wil ik er achter komen welke phonemen ik moeite heb\",\n",
    "            speaker_wav=speaker_wav_path,\n",
    "            language=\"nl\", # Set language to Dutch\n",
    "            file_path=output_wav_path\n",
    "        )\n",
    "        print(f\"Speech successfully saved to {output_wav_path}\")\n",
    "\n",
    "    except Exception as e:\n",
    "        # Catch potential errors during initialization or synthesis\n",
    "        print(f\"An error occurred during TTS initialization or synthesis: {e}\")\n",
    "\n"
   ]
  },
  {
   "cell_type": "code",
   "execution_count": null,
   "id": "31b41958-5749-42ec-bd45-c176eea9c76d",
   "metadata": {},
   "outputs": [],
   "source": []
  }
 ],
 "metadata": {
  "kernelspec": {
   "display_name": "My Environment",
   "language": "python",
   "name": "myenv"
  },
  "language_info": {
   "codemirror_mode": {
    "name": "ipython",
    "version": 3
   },
   "file_extension": ".py",
   "mimetype": "text/x-python",
   "name": "python",
   "nbconvert_exporter": "python",
   "pygments_lexer": "ipython3",
   "version": "3.10.14"
  }
 },
 "nbformat": 4,
 "nbformat_minor": 5
}
