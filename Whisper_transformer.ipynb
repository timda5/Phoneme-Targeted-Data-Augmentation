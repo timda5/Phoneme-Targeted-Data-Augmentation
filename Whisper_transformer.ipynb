{
 "cells": [
  {
   "cell_type": "code",
   "execution_count": 15,
   "id": "c76e1dae-9df2-4082-994e-6a681b345c95",
   "metadata": {},
   "outputs": [
    {
     "name": "stdout",
     "output_type": "stream",
     "text": [
      "Warning: __file__ not defined. Using current working directory.\n",
      "--- Starting Transcription for Group: PureDutchChildren_7_11_Large_3_finetuned ---\n",
      "Using device: cuda\n",
      "\n",
      "All required input files and directories found.\n",
      "Loaded 79 speaker codes from pure_dutch_children_7_11_codes.txt\n",
      "\n",
      "--- Loading Recording Metadata ---\n",
      "Successfully loaded recordings.txt with delimiter '\\t', encoding 'utf-8'.\n",
      "Successfully loaded recordings.txt with delimiter '\\t', encoding 'utf-8'.\n",
      "Combined 2 recording metadata file(s): 995 total entries.\n",
      "\n",
      "--- Filtering Recordings for Group: PureDutchChildren_7_11_Large_3_finetuned ---\n",
      "Filtering recordings for component: 'comp-q'\n",
      "Found 78 recordings matching speakers and component.\n",
      "\n",
      "--- Loading Fine-tuned Whisper Model from '/home/tdamen/whisper-finetuned-synthetic-only-large-v3' ---\n"
     ]
    },
    {
     "data": {
      "application/vnd.jupyter.widget-view+json": {
       "model_id": "bfd95d5d81f5426e87e0c3f5dff3dc2b",
       "version_major": 2,
       "version_minor": 0
      },
      "text/plain": [
       "Loading checkpoint shards:   0%|          | 0/2 [00:00<?, ?it/s]"
      ]
     },
     "metadata": {},
     "output_type": "display_data"
    },
    {
     "name": "stderr",
     "output_type": "stream",
     "text": [
      "Device set to use cuda:0\n"
     ]
    },
    {
     "name": "stdout",
     "output_type": "stream",
     "text": [
      "Fine-tuned model loaded into ASR pipeline.\n",
      "--- Processing all 78 recordings for PureDutchChildren_7_11_Large_3_finetuned ---\n"
     ]
    },
    {
     "name": "stderr",
     "output_type": "stream",
     "text": [
      "Transcribing PureDutchChildren_7_11_Large_3_finetuned:   0%|          | 0/78 [00:00<?, ?it/s]"
     ]
    },
    {
     "name": "stdout",
     "output_type": "stream",
     "text": [
      "\n",
      "Processing: fn000049.wav (Speaker: N000025, Comp: comp-q)\n",
      "  Parsed 164 segments using simple timestamp format.\n",
      "  Reference found and parsed: fn000049.ort\n",
      "  Starting transcription with fine-tuned model...\n"
     ]
    },
    {
     "name": "stderr",
     "output_type": "stream",
     "text": [
      "/home/tdamen/.local/lib/python3.10/site-packages/transformers/models/whisper/generation_whisper.py:573: FutureWarning: The input name `inputs` is deprecated. Please make sure to use `input_features` instead.\n",
      "  warnings.warn(\n",
      "Transcribing PureDutchChildren_7_11_Large_3_finetuned:   1%|▏         | 1/78 [00:46<1:00:03, 46.80s/it]"
     ]
    },
    {
     "name": "stdout",
     "output_type": "stream",
     "text": [
      "  Transcription finished.\n",
      "\n",
      "Processing: fn000051.wav (Speaker: N000026, Comp: comp-q)\n",
      "  Parsed 218 segments using simple timestamp format.\n",
      "  Reference found and parsed: fn000051.ort\n",
      "  Starting transcription with fine-tuned model...\n"
     ]
    },
    {
     "name": "stderr",
     "output_type": "stream",
     "text": [
      "/home/tdamen/.local/lib/python3.10/site-packages/transformers/models/whisper/generation_whisper.py:573: FutureWarning: The input name `inputs` is deprecated. Please make sure to use `input_features` instead.\n",
      "  warnings.warn(\n",
      "Transcribing PureDutchChildren_7_11_Large_3_finetuned:   3%|▎         | 2/78 [02:03<1:21:15, 64.15s/it]"
     ]
    },
    {
     "name": "stdout",
     "output_type": "stream",
     "text": [
      "  Transcription finished.\n",
      "\n",
      "Processing: fn000060.wav (Speaker: N000028, Comp: comp-q)\n",
      "  Parsed 187 segments using simple timestamp format.\n",
      "  Reference found and parsed: fn000060.ort\n",
      "  Starting transcription with fine-tuned model...\n"
     ]
    },
    {
     "name": "stderr",
     "output_type": "stream",
     "text": [
      "/home/tdamen/.local/lib/python3.10/site-packages/transformers/models/whisper/generation_whisper.py:573: FutureWarning: The input name `inputs` is deprecated. Please make sure to use `input_features` instead.\n",
      "  warnings.warn(\n",
      "Transcribing PureDutchChildren_7_11_Large_3_finetuned:   4%|▍         | 3/78 [02:57<1:14:47, 59.83s/it]"
     ]
    },
    {
     "name": "stdout",
     "output_type": "stream",
     "text": [
      "  Transcription finished.\n",
      "\n",
      "Processing: fn000062.wav (Speaker: N000029, Comp: comp-q)\n",
      "  Parsed 235 segments using simple timestamp format.\n",
      "  Reference found and parsed: fn000062.ort\n",
      "  Starting transcription with fine-tuned model...\n"
     ]
    },
    {
     "name": "stderr",
     "output_type": "stream",
     "text": [
      "/home/tdamen/.local/lib/python3.10/site-packages/transformers/models/whisper/generation_whisper.py:573: FutureWarning: The input name `inputs` is deprecated. Please make sure to use `input_features` instead.\n",
      "  warnings.warn(\n",
      "Transcribing PureDutchChildren_7_11_Large_3_finetuned:   5%|▌         | 4/78 [04:14<1:21:54, 66.41s/it]"
     ]
    },
    {
     "name": "stdout",
     "output_type": "stream",
     "text": [
      "  Transcription finished.\n",
      "\n",
      "Processing: fn000064.wav (Speaker: N000030, Comp: comp-q)\n",
      "  Parsed 224 segments using simple timestamp format.\n",
      "  Reference found and parsed: fn000064.ort\n",
      "  Starting transcription with fine-tuned model...\n"
     ]
    },
    {
     "name": "stderr",
     "output_type": "stream",
     "text": [
      "/home/tdamen/.local/lib/python3.10/site-packages/transformers/models/whisper/generation_whisper.py:573: FutureWarning: The input name `inputs` is deprecated. Please make sure to use `input_features` instead.\n",
      "  warnings.warn(\n",
      "Whisper did not predict an ending timestamp, which can happen if audio is cut off in the middle of a word. Also make sure WhisperTimeStampLogitsProcessor was used during generation.\n",
      "Transcribing PureDutchChildren_7_11_Large_3_finetuned:   6%|▋         | 5/78 [05:14<1:17:53, 64.02s/it]"
     ]
    },
    {
     "name": "stdout",
     "output_type": "stream",
     "text": [
      "  Transcription finished.\n",
      "\n",
      "Processing: fn000066.wav (Speaker: N000031, Comp: comp-q)\n",
      "  Parsed 244 segments using simple timestamp format.\n",
      "  Reference found and parsed: fn000066.ort\n",
      "  Starting transcription with fine-tuned model...\n"
     ]
    },
    {
     "name": "stderr",
     "output_type": "stream",
     "text": [
      "/home/tdamen/.local/lib/python3.10/site-packages/transformers/models/whisper/generation_whisper.py:573: FutureWarning: The input name `inputs` is deprecated. Please make sure to use `input_features` instead.\n",
      "  warnings.warn(\n",
      "Whisper did not predict an ending timestamp, which can happen if audio is cut off in the middle of a word. Also make sure WhisperTimeStampLogitsProcessor was used during generation.\n",
      "Transcribing PureDutchChildren_7_11_Large_3_finetuned:   8%|▊         | 6/78 [06:08<1:12:52, 60.73s/it]"
     ]
    },
    {
     "name": "stdout",
     "output_type": "stream",
     "text": [
      "  Transcription finished.\n",
      "\n",
      "Processing: fn000068.wav (Speaker: N000032, Comp: comp-q)\n",
      "  Parsed 168 segments using simple timestamp format.\n",
      "  Reference found and parsed: fn000068.ort\n",
      "  Starting transcription with fine-tuned model...\n"
     ]
    },
    {
     "name": "stderr",
     "output_type": "stream",
     "text": [
      "/home/tdamen/.local/lib/python3.10/site-packages/transformers/models/whisper/generation_whisper.py:573: FutureWarning: The input name `inputs` is deprecated. Please make sure to use `input_features` instead.\n",
      "  warnings.warn(\n",
      "Transcribing PureDutchChildren_7_11_Large_3_finetuned:   9%|▉         | 7/78 [06:56<1:07:02, 56.65s/it]"
     ]
    },
    {
     "name": "stdout",
     "output_type": "stream",
     "text": [
      "  Transcription finished.\n",
      "\n",
      "Processing: fn000070.wav (Speaker: N000033, Comp: comp-q)\n",
      "  Parsed 136 segments using simple timestamp format.\n",
      "  Reference found and parsed: fn000070.ort\n",
      "  Starting transcription with fine-tuned model...\n"
     ]
    },
    {
     "name": "stderr",
     "output_type": "stream",
     "text": [
      "/home/tdamen/.local/lib/python3.10/site-packages/transformers/models/whisper/generation_whisper.py:573: FutureWarning: The input name `inputs` is deprecated. Please make sure to use `input_features` instead.\n",
      "  warnings.warn(\n",
      "Transcribing PureDutchChildren_7_11_Large_3_finetuned:  10%|█         | 8/78 [07:39<1:00:55, 52.23s/it]"
     ]
    },
    {
     "name": "stdout",
     "output_type": "stream",
     "text": [
      "  Transcription finished.\n",
      "\n",
      "Processing: fn000073.wav (Speaker: N000034, Comp: comp-q)\n",
      "  Parsed 167 segments using simple timestamp format.\n",
      "  Reference found and parsed: fn000073.ort\n",
      "  Starting transcription with fine-tuned model...\n"
     ]
    },
    {
     "name": "stderr",
     "output_type": "stream",
     "text": [
      "/home/tdamen/.local/lib/python3.10/site-packages/transformers/models/whisper/generation_whisper.py:573: FutureWarning: The input name `inputs` is deprecated. Please make sure to use `input_features` instead.\n",
      "  warnings.warn(\n",
      "Transcribing PureDutchChildren_7_11_Large_3_finetuned:  12%|█▏        | 9/78 [08:35<1:01:20, 53.34s/it]"
     ]
    },
    {
     "name": "stdout",
     "output_type": "stream",
     "text": [
      "  Transcription finished.\n",
      "\n",
      "Processing: fn000074.wav (Speaker: N000027, Comp: comp-q)\n",
      "  Parsed 176 segments using simple timestamp format.\n",
      "  Reference found and parsed: fn000074.ort\n",
      "  Starting transcription with fine-tuned model...\n"
     ]
    },
    {
     "name": "stderr",
     "output_type": "stream",
     "text": [
      "/home/tdamen/.local/lib/python3.10/site-packages/transformers/models/whisper/generation_whisper.py:573: FutureWarning: The input name `inputs` is deprecated. Please make sure to use `input_features` instead.\n",
      "  warnings.warn(\n",
      "Transcribing PureDutchChildren_7_11_Large_3_finetuned:  13%|█▎        | 10/78 [09:19<57:27, 50.70s/it] "
     ]
    },
    {
     "name": "stdout",
     "output_type": "stream",
     "text": [
      "  Transcription finished.\n",
      "\n",
      "Processing: fn000076.wav (Speaker: N000036, Comp: comp-q)\n",
      "  Parsed 166 segments using simple timestamp format.\n",
      "  Reference found and parsed: fn000076.ort\n",
      "  Starting transcription with fine-tuned model...\n"
     ]
    },
    {
     "name": "stderr",
     "output_type": "stream",
     "text": [
      "/home/tdamen/.local/lib/python3.10/site-packages/transformers/models/whisper/generation_whisper.py:573: FutureWarning: The input name `inputs` is deprecated. Please make sure to use `input_features` instead.\n",
      "  warnings.warn(\n",
      "Transcribing PureDutchChildren_7_11_Large_3_finetuned:  14%|█▍        | 11/78 [10:16<58:30, 52.40s/it]"
     ]
    },
    {
     "name": "stdout",
     "output_type": "stream",
     "text": [
      "  Transcription finished.\n",
      "\n",
      "Processing: fn000078.wav (Speaker: N000037, Comp: comp-q)\n",
      "  Parsed 158 segments using simple timestamp format.\n",
      "  Reference found and parsed: fn000078.ort\n",
      "  Starting transcription with fine-tuned model...\n"
     ]
    },
    {
     "name": "stderr",
     "output_type": "stream",
     "text": [
      "/home/tdamen/.local/lib/python3.10/site-packages/transformers/models/whisper/generation_whisper.py:573: FutureWarning: The input name `inputs` is deprecated. Please make sure to use `input_features` instead.\n",
      "  warnings.warn(\n",
      "Transcribing PureDutchChildren_7_11_Large_3_finetuned:  15%|█▌        | 12/78 [11:20<1:01:45, 56.15s/it]"
     ]
    },
    {
     "name": "stdout",
     "output_type": "stream",
     "text": [
      "  Transcription finished.\n",
      "\n",
      "Processing: fn000080.wav (Speaker: N000038, Comp: comp-q)\n",
      "  Parsed 175 segments using simple timestamp format.\n",
      "  Reference found and parsed: fn000080.ort\n",
      "  Starting transcription with fine-tuned model...\n"
     ]
    },
    {
     "name": "stderr",
     "output_type": "stream",
     "text": [
      "/home/tdamen/.local/lib/python3.10/site-packages/transformers/models/whisper/generation_whisper.py:573: FutureWarning: The input name `inputs` is deprecated. Please make sure to use `input_features` instead.\n",
      "  warnings.warn(\n",
      "Whisper did not predict an ending timestamp, which can happen if audio is cut off in the middle of a word. Also make sure WhisperTimeStampLogitsProcessor was used during generation.\n",
      "Transcribing PureDutchChildren_7_11_Large_3_finetuned:  17%|█▋        | 13/78 [12:25<1:03:39, 58.77s/it]"
     ]
    },
    {
     "name": "stdout",
     "output_type": "stream",
     "text": [
      "  Transcription finished.\n",
      "\n",
      "Processing: fn000082.wav (Speaker: N000039, Comp: comp-q)\n",
      "  Parsed 224 segments using simple timestamp format.\n",
      "  Reference found and parsed: fn000082.ort\n",
      "  Starting transcription with fine-tuned model...\n"
     ]
    },
    {
     "name": "stderr",
     "output_type": "stream",
     "text": [
      "/home/tdamen/.local/lib/python3.10/site-packages/transformers/models/whisper/generation_whisper.py:573: FutureWarning: The input name `inputs` is deprecated. Please make sure to use `input_features` instead.\n",
      "  warnings.warn(\n",
      "Transcribing PureDutchChildren_7_11_Large_3_finetuned:  18%|█▊        | 14/78 [13:41<1:08:09, 63.90s/it]"
     ]
    },
    {
     "name": "stdout",
     "output_type": "stream",
     "text": [
      "  Transcription finished.\n",
      "\n",
      "Processing: fn000084.wav (Speaker: N000040, Comp: comp-q)\n",
      "  Parsed 170 segments using simple timestamp format.\n",
      "  Reference found and parsed: fn000084.ort\n",
      "  Starting transcription with fine-tuned model...\n"
     ]
    },
    {
     "name": "stderr",
     "output_type": "stream",
     "text": [
      "/home/tdamen/.local/lib/python3.10/site-packages/transformers/models/whisper/generation_whisper.py:573: FutureWarning: The input name `inputs` is deprecated. Please make sure to use `input_features` instead.\n",
      "  warnings.warn(\n",
      "Transcribing PureDutchChildren_7_11_Large_3_finetuned:  19%|█▉        | 15/78 [15:01<1:12:09, 68.72s/it]"
     ]
    },
    {
     "name": "stdout",
     "output_type": "stream",
     "text": [
      "  Transcription finished.\n",
      "\n",
      "Processing: fn000087.wav (Speaker: N000041, Comp: comp-q)\n",
      "  Parsed 164 segments using simple timestamp format.\n",
      "  Reference found and parsed: fn000087.ort\n",
      "  Starting transcription with fine-tuned model...\n"
     ]
    },
    {
     "name": "stderr",
     "output_type": "stream",
     "text": [
      "/home/tdamen/.local/lib/python3.10/site-packages/transformers/models/whisper/generation_whisper.py:573: FutureWarning: The input name `inputs` is deprecated. Please make sure to use `input_features` instead.\n",
      "  warnings.warn(\n",
      "Transcribing PureDutchChildren_7_11_Large_3_finetuned:  21%|██        | 16/78 [16:27<1:16:31, 74.05s/it]"
     ]
    },
    {
     "name": "stdout",
     "output_type": "stream",
     "text": [
      "  Transcription finished.\n",
      "\n",
      "Processing: fn000090.wav (Speaker: N000042, Comp: comp-q)\n",
      "  Parsed 169 segments using simple timestamp format.\n",
      "  Reference found and parsed: fn000090.ort\n",
      "  Starting transcription with fine-tuned model...\n"
     ]
    },
    {
     "name": "stderr",
     "output_type": "stream",
     "text": [
      "/home/tdamen/.local/lib/python3.10/site-packages/transformers/models/whisper/generation_whisper.py:573: FutureWarning: The input name `inputs` is deprecated. Please make sure to use `input_features` instead.\n",
      "  warnings.warn(\n",
      "Transcribing PureDutchChildren_7_11_Large_3_finetuned:  22%|██▏       | 17/78 [17:35<1:13:20, 72.15s/it]"
     ]
    },
    {
     "name": "stdout",
     "output_type": "stream",
     "text": [
      "  Transcription finished.\n",
      "\n",
      "Processing: fn000092.wav (Speaker: N000043, Comp: comp-q)\n",
      "  Parsed 162 segments using simple timestamp format.\n",
      "  Reference found and parsed: fn000092.ort\n",
      "  Starting transcription with fine-tuned model...\n"
     ]
    },
    {
     "name": "stderr",
     "output_type": "stream",
     "text": [
      "/home/tdamen/.local/lib/python3.10/site-packages/transformers/models/whisper/generation_whisper.py:573: FutureWarning: The input name `inputs` is deprecated. Please make sure to use `input_features` instead.\n",
      "  warnings.warn(\n",
      "Transcribing PureDutchChildren_7_11_Large_3_finetuned:  23%|██▎       | 18/78 [18:38<1:09:24, 69.42s/it]"
     ]
    },
    {
     "name": "stdout",
     "output_type": "stream",
     "text": [
      "  Transcription finished.\n",
      "\n",
      "Processing: fn000094.wav (Speaker: N000044, Comp: comp-q)\n",
      "  Parsed 217 segments using simple timestamp format.\n",
      "  Reference found and parsed: fn000094.ort\n",
      "  Starting transcription with fine-tuned model...\n"
     ]
    },
    {
     "name": "stderr",
     "output_type": "stream",
     "text": [
      "/home/tdamen/.local/lib/python3.10/site-packages/transformers/models/whisper/generation_whisper.py:573: FutureWarning: The input name `inputs` is deprecated. Please make sure to use `input_features` instead.\n",
      "  warnings.warn(\n",
      "Transcribing PureDutchChildren_7_11_Large_3_finetuned:  24%|██▍       | 19/78 [20:02<1:12:28, 73.71s/it]"
     ]
    },
    {
     "name": "stdout",
     "output_type": "stream",
     "text": [
      "  Transcription finished.\n",
      "\n",
      "Processing: fn000100.wav (Speaker: N000047, Comp: comp-q)\n",
      "  Parsed 194 segments using simple timestamp format.\n",
      "  Reference found and parsed: fn000100.ort\n",
      "  Starting transcription with fine-tuned model...\n"
     ]
    },
    {
     "name": "stderr",
     "output_type": "stream",
     "text": [
      "/home/tdamen/.local/lib/python3.10/site-packages/transformers/models/whisper/generation_whisper.py:573: FutureWarning: The input name `inputs` is deprecated. Please make sure to use `input_features` instead.\n",
      "  warnings.warn(\n",
      "Transcribing PureDutchChildren_7_11_Large_3_finetuned:  26%|██▌       | 20/78 [21:08<1:08:58, 71.36s/it]"
     ]
    },
    {
     "name": "stdout",
     "output_type": "stream",
     "text": [
      "  Transcription finished.\n",
      "\n",
      "Processing: fn000102.wav (Speaker: N000048, Comp: comp-q)\n",
      "  Parsed 174 segments using simple timestamp format.\n",
      "  Reference found and parsed: fn000102.ort\n",
      "  Starting transcription with fine-tuned model...\n"
     ]
    },
    {
     "name": "stderr",
     "output_type": "stream",
     "text": [
      "/home/tdamen/.local/lib/python3.10/site-packages/transformers/models/whisper/generation_whisper.py:573: FutureWarning: The input name `inputs` is deprecated. Please make sure to use `input_features` instead.\n",
      "  warnings.warn(\n",
      "Whisper did not predict an ending timestamp, which can happen if audio is cut off in the middle of a word. Also make sure WhisperTimeStampLogitsProcessor was used during generation.\n",
      "Transcribing PureDutchChildren_7_11_Large_3_finetuned:  27%|██▋       | 21/78 [22:29<1:10:45, 74.48s/it]"
     ]
    },
    {
     "name": "stdout",
     "output_type": "stream",
     "text": [
      "  Transcription finished.\n",
      "\n",
      "Processing: fn000104.wav (Speaker: N000049, Comp: comp-q)\n",
      "  Parsed 140 segments using simple timestamp format.\n",
      "  Reference found and parsed: fn000104.ort\n",
      "  Starting transcription with fine-tuned model...\n"
     ]
    },
    {
     "name": "stderr",
     "output_type": "stream",
     "text": [
      "/home/tdamen/.local/lib/python3.10/site-packages/transformers/models/whisper/generation_whisper.py:573: FutureWarning: The input name `inputs` is deprecated. Please make sure to use `input_features` instead.\n",
      "  warnings.warn(\n",
      "Transcribing PureDutchChildren_7_11_Large_3_finetuned:  28%|██▊       | 22/78 [23:40<1:08:28, 73.37s/it]"
     ]
    },
    {
     "name": "stdout",
     "output_type": "stream",
     "text": [
      "  Transcription finished.\n",
      "\n",
      "Processing: fn000108.wav (Speaker: N000054, Comp: comp-q)\n",
      "  Parsed 288 segments using simple timestamp format.\n",
      "  Reference found and parsed: fn000108.ort\n",
      "  Starting transcription with fine-tuned model...\n"
     ]
    },
    {
     "name": "stderr",
     "output_type": "stream",
     "text": [
      "/home/tdamen/.local/lib/python3.10/site-packages/transformers/models/whisper/generation_whisper.py:573: FutureWarning: The input name `inputs` is deprecated. Please make sure to use `input_features` instead.\n",
      "  warnings.warn(\n",
      "Transcribing PureDutchChildren_7_11_Large_3_finetuned:  29%|██▉       | 23/78 [25:16<1:13:27, 80.13s/it]"
     ]
    },
    {
     "name": "stdout",
     "output_type": "stream",
     "text": [
      "  Transcription finished.\n",
      "\n",
      "Processing: fn000110.wav (Speaker: N000051, Comp: comp-q)\n",
      "  Parsed 208 segments using simple timestamp format.\n",
      "  Reference found and parsed: fn000110.ort\n",
      "  Starting transcription with fine-tuned model...\n"
     ]
    },
    {
     "name": "stderr",
     "output_type": "stream",
     "text": [
      "/home/tdamen/.local/lib/python3.10/site-packages/transformers/models/whisper/generation_whisper.py:573: FutureWarning: The input name `inputs` is deprecated. Please make sure to use `input_features` instead.\n",
      "  warnings.warn(\n",
      "Transcribing PureDutchChildren_7_11_Large_3_finetuned:  31%|███       | 24/78 [26:40<1:13:01, 81.14s/it]"
     ]
    },
    {
     "name": "stdout",
     "output_type": "stream",
     "text": [
      "  Transcription finished.\n",
      "\n",
      "Processing: fn000112.wav (Speaker: N000052, Comp: comp-q)\n",
      "  Parsed 186 segments using simple timestamp format.\n",
      "  Reference found and parsed: fn000112.ort\n",
      "  Starting transcription with fine-tuned model...\n"
     ]
    },
    {
     "name": "stderr",
     "output_type": "stream",
     "text": [
      "/home/tdamen/.local/lib/python3.10/site-packages/transformers/models/whisper/generation_whisper.py:573: FutureWarning: The input name `inputs` is deprecated. Please make sure to use `input_features` instead.\n",
      "  warnings.warn(\n",
      "Transcribing PureDutchChildren_7_11_Large_3_finetuned:  32%|███▏      | 25/78 [27:50<1:08:46, 77.87s/it]"
     ]
    },
    {
     "name": "stdout",
     "output_type": "stream",
     "text": [
      "  Transcription finished.\n",
      "\n",
      "Processing: fn000117.wav (Speaker: N000055, Comp: comp-q)\n",
      "  Parsed 178 segments using simple timestamp format.\n",
      "  Reference found and parsed: fn000117.ort\n",
      "  Starting transcription with fine-tuned model...\n"
     ]
    },
    {
     "name": "stderr",
     "output_type": "stream",
     "text": [
      "/home/tdamen/.local/lib/python3.10/site-packages/transformers/models/whisper/generation_whisper.py:573: FutureWarning: The input name `inputs` is deprecated. Please make sure to use `input_features` instead.\n",
      "  warnings.warn(\n",
      "Whisper did not predict an ending timestamp, which can happen if audio is cut off in the middle of a word. Also make sure WhisperTimeStampLogitsProcessor was used during generation.\n",
      "Transcribing PureDutchChildren_7_11_Large_3_finetuned:  33%|███▎      | 26/78 [28:47<1:02:01, 71.56s/it]"
     ]
    },
    {
     "name": "stdout",
     "output_type": "stream",
     "text": [
      "  Transcription finished.\n",
      "\n",
      "Processing: fn000119.wav (Speaker: N000056, Comp: comp-q)\n",
      "  Parsed 141 segments using simple timestamp format.\n",
      "  Reference found and parsed: fn000119.ort\n",
      "  Starting transcription with fine-tuned model...\n"
     ]
    },
    {
     "name": "stderr",
     "output_type": "stream",
     "text": [
      "/home/tdamen/.local/lib/python3.10/site-packages/transformers/models/whisper/generation_whisper.py:573: FutureWarning: The input name `inputs` is deprecated. Please make sure to use `input_features` instead.\n",
      "  warnings.warn(\n",
      "Transcribing PureDutchChildren_7_11_Large_3_finetuned:  35%|███▍      | 27/78 [29:36<55:04, 64.80s/it]  "
     ]
    },
    {
     "name": "stdout",
     "output_type": "stream",
     "text": [
      "  Transcription finished.\n",
      "\n",
      "Processing: fn000121.wav (Speaker: N000057, Comp: comp-q)\n",
      "  Parsed 124 segments using simple timestamp format.\n",
      "  Reference found and parsed: fn000121.ort\n",
      "  Starting transcription with fine-tuned model...\n"
     ]
    },
    {
     "name": "stderr",
     "output_type": "stream",
     "text": [
      "/home/tdamen/.local/lib/python3.10/site-packages/transformers/models/whisper/generation_whisper.py:573: FutureWarning: The input name `inputs` is deprecated. Please make sure to use `input_features` instead.\n",
      "  warnings.warn(\n",
      "Transcribing PureDutchChildren_7_11_Large_3_finetuned:  36%|███▌      | 28/78 [30:20<48:53, 58.66s/it]"
     ]
    },
    {
     "name": "stdout",
     "output_type": "stream",
     "text": [
      "  Transcription finished.\n",
      "\n",
      "Processing: fn000123.wav (Speaker: N000058, Comp: comp-q)\n",
      "  Parsed 137 segments using simple timestamp format.\n",
      "  Reference found and parsed: fn000123.ort\n",
      "  Starting transcription with fine-tuned model...\n"
     ]
    },
    {
     "name": "stderr",
     "output_type": "stream",
     "text": [
      "/home/tdamen/.local/lib/python3.10/site-packages/transformers/models/whisper/generation_whisper.py:573: FutureWarning: The input name `inputs` is deprecated. Please make sure to use `input_features` instead.\n",
      "  warnings.warn(\n",
      "Whisper did not predict an ending timestamp, which can happen if audio is cut off in the middle of a word. Also make sure WhisperTimeStampLogitsProcessor was used during generation.\n",
      "Transcribing PureDutchChildren_7_11_Large_3_finetuned:  37%|███▋      | 29/78 [30:56<42:14, 51.72s/it]"
     ]
    },
    {
     "name": "stdout",
     "output_type": "stream",
     "text": [
      "  Transcription finished.\n",
      "\n",
      "Processing: fn000125.wav (Speaker: N000059, Comp: comp-q)\n",
      "  Parsed 119 segments using simple timestamp format.\n",
      "  Reference found and parsed: fn000125.ort\n",
      "  Starting transcription with fine-tuned model...\n"
     ]
    },
    {
     "name": "stderr",
     "output_type": "stream",
     "text": [
      "/home/tdamen/.local/lib/python3.10/site-packages/transformers/models/whisper/generation_whisper.py:573: FutureWarning: The input name `inputs` is deprecated. Please make sure to use `input_features` instead.\n",
      "  warnings.warn(\n",
      "Transcribing PureDutchChildren_7_11_Large_3_finetuned:  38%|███▊      | 30/78 [31:34<38:06, 47.63s/it]"
     ]
    },
    {
     "name": "stdout",
     "output_type": "stream",
     "text": [
      "  Transcription finished.\n",
      "\n",
      "Processing: fn000127.wav (Speaker: N000060, Comp: comp-q)\n",
      "  Parsed 145 segments using simple timestamp format.\n",
      "  Reference found and parsed: fn000127.ort\n",
      "  Starting transcription with fine-tuned model...\n"
     ]
    },
    {
     "name": "stderr",
     "output_type": "stream",
     "text": [
      "/home/tdamen/.local/lib/python3.10/site-packages/transformers/models/whisper/generation_whisper.py:573: FutureWarning: The input name `inputs` is deprecated. Please make sure to use `input_features` instead.\n",
      "  warnings.warn(\n",
      "Transcribing PureDutchChildren_7_11_Large_3_finetuned:  40%|███▉      | 31/78 [32:18<36:26, 46.52s/it]"
     ]
    },
    {
     "name": "stdout",
     "output_type": "stream",
     "text": [
      "  Transcription finished.\n",
      "\n",
      "Processing: fn000129.wav (Speaker: N000061, Comp: comp-q)\n",
      "  Parsed 215 segments using simple timestamp format.\n",
      "  Reference found and parsed: fn000129.ort\n",
      "  Starting transcription with fine-tuned model...\n"
     ]
    },
    {
     "name": "stderr",
     "output_type": "stream",
     "text": [
      "/home/tdamen/.local/lib/python3.10/site-packages/transformers/models/whisper/generation_whisper.py:573: FutureWarning: The input name `inputs` is deprecated. Please make sure to use `input_features` instead.\n",
      "  warnings.warn(\n",
      "Transcribing PureDutchChildren_7_11_Large_3_finetuned:  41%|████      | 32/78 [33:36<42:59, 56.07s/it]"
     ]
    },
    {
     "name": "stdout",
     "output_type": "stream",
     "text": [
      "  Transcription finished.\n",
      "\n",
      "Processing: fn000133.wav (Speaker: N000062, Comp: comp-q)\n",
      "  Parsed 140 segments using simple timestamp format.\n",
      "  Reference found and parsed: fn000133.ort\n",
      "  Starting transcription with fine-tuned model...\n"
     ]
    },
    {
     "name": "stderr",
     "output_type": "stream",
     "text": [
      "/home/tdamen/.local/lib/python3.10/site-packages/transformers/models/whisper/generation_whisper.py:573: FutureWarning: The input name `inputs` is deprecated. Please make sure to use `input_features` instead.\n",
      "  warnings.warn(\n",
      "Whisper did not predict an ending timestamp, which can happen if audio is cut off in the middle of a word. Also make sure WhisperTimeStampLogitsProcessor was used during generation.\n",
      "Transcribing PureDutchChildren_7_11_Large_3_finetuned:  42%|████▏     | 33/78 [34:31<41:54, 55.88s/it]"
     ]
    },
    {
     "name": "stdout",
     "output_type": "stream",
     "text": [
      "  Transcription finished.\n",
      "\n",
      "Processing: fn000135.wav (Speaker: N000063, Comp: comp-q)\n",
      "  Parsed 142 segments using simple timestamp format.\n",
      "  Reference found and parsed: fn000135.ort\n",
      "  Starting transcription with fine-tuned model...\n"
     ]
    },
    {
     "name": "stderr",
     "output_type": "stream",
     "text": [
      "/home/tdamen/.local/lib/python3.10/site-packages/transformers/models/whisper/generation_whisper.py:573: FutureWarning: The input name `inputs` is deprecated. Please make sure to use `input_features` instead.\n",
      "  warnings.warn(\n",
      "Transcribing PureDutchChildren_7_11_Large_3_finetuned:  44%|████▎     | 34/78 [35:19<39:11, 53.44s/it]"
     ]
    },
    {
     "name": "stdout",
     "output_type": "stream",
     "text": [
      "  Transcription finished.\n",
      "\n",
      "Processing: fn000137.wav (Speaker: N000064, Comp: comp-q)\n",
      "  Parsed 166 segments using simple timestamp format.\n",
      "  Reference found and parsed: fn000137.ort\n",
      "  Starting transcription with fine-tuned model...\n"
     ]
    },
    {
     "name": "stderr",
     "output_type": "stream",
     "text": [
      "/home/tdamen/.local/lib/python3.10/site-packages/transformers/models/whisper/generation_whisper.py:573: FutureWarning: The input name `inputs` is deprecated. Please make sure to use `input_features` instead.\n",
      "  warnings.warn(\n",
      "Transcribing PureDutchChildren_7_11_Large_3_finetuned:  45%|████▍     | 35/78 [36:28<41:32, 57.97s/it]"
     ]
    },
    {
     "name": "stdout",
     "output_type": "stream",
     "text": [
      "  Transcription finished.\n",
      "\n",
      "Processing: fn000143.wav (Speaker: N000066, Comp: comp-q)\n",
      "  Parsed 112 segments using simple timestamp format.\n",
      "  Reference found and parsed: fn000143.ort\n",
      "  Starting transcription with fine-tuned model...\n"
     ]
    },
    {
     "name": "stderr",
     "output_type": "stream",
     "text": [
      "/home/tdamen/.local/lib/python3.10/site-packages/transformers/models/whisper/generation_whisper.py:573: FutureWarning: The input name `inputs` is deprecated. Please make sure to use `input_features` instead.\n",
      "  warnings.warn(\n",
      "Whisper did not predict an ending timestamp, which can happen if audio is cut off in the middle of a word. Also make sure WhisperTimeStampLogitsProcessor was used during generation.\n",
      "Transcribing PureDutchChildren_7_11_Large_3_finetuned:  46%|████▌     | 36/78 [37:13<37:49, 54.03s/it]"
     ]
    },
    {
     "name": "stdout",
     "output_type": "stream",
     "text": [
      "  Transcription finished.\n",
      "\n",
      "Processing: fn000145.wav (Speaker: N000067, Comp: comp-q)\n",
      "  Parsed 210 segments using simple timestamp format.\n",
      "  Reference found and parsed: fn000145.ort\n",
      "  Starting transcription with fine-tuned model...\n"
     ]
    },
    {
     "name": "stderr",
     "output_type": "stream",
     "text": [
      "/home/tdamen/.local/lib/python3.10/site-packages/transformers/models/whisper/generation_whisper.py:573: FutureWarning: The input name `inputs` is deprecated. Please make sure to use `input_features` instead.\n",
      "  warnings.warn(\n",
      "Whisper did not predict an ending timestamp, which can happen if audio is cut off in the middle of a word. Also make sure WhisperTimeStampLogitsProcessor was used during generation.\n",
      "Transcribing PureDutchChildren_7_11_Large_3_finetuned:  47%|████▋     | 37/78 [38:24<40:26, 59.19s/it]"
     ]
    },
    {
     "name": "stdout",
     "output_type": "stream",
     "text": [
      "  Transcription finished.\n",
      "\n",
      "Processing: fn000149.wav (Speaker: N000070, Comp: comp-q)\n",
      "  Parsed 205 segments using simple timestamp format.\n",
      "  Reference found and parsed: fn000149.ort\n",
      "  Starting transcription with fine-tuned model...\n"
     ]
    },
    {
     "name": "stderr",
     "output_type": "stream",
     "text": [
      "/home/tdamen/.local/lib/python3.10/site-packages/transformers/models/whisper/generation_whisper.py:573: FutureWarning: The input name `inputs` is deprecated. Please make sure to use `input_features` instead.\n",
      "  warnings.warn(\n",
      "Transcribing PureDutchChildren_7_11_Large_3_finetuned:  49%|████▊     | 38/78 [39:26<39:59, 59.99s/it]"
     ]
    },
    {
     "name": "stdout",
     "output_type": "stream",
     "text": [
      "  Transcription finished.\n",
      "\n",
      "Processing: fn000151.wav (Speaker: N000069, Comp: comp-q)\n",
      "  Parsed 117 segments using simple timestamp format.\n",
      "  Reference found and parsed: fn000151.ort\n",
      "  Starting transcription with fine-tuned model...\n"
     ]
    },
    {
     "name": "stderr",
     "output_type": "stream",
     "text": [
      "/home/tdamen/.local/lib/python3.10/site-packages/transformers/models/whisper/generation_whisper.py:573: FutureWarning: The input name `inputs` is deprecated. Please make sure to use `input_features` instead.\n",
      "  warnings.warn(\n",
      "Transcribing PureDutchChildren_7_11_Large_3_finetuned:  50%|█████     | 39/78 [40:20<37:52, 58.27s/it]"
     ]
    },
    {
     "name": "stdout",
     "output_type": "stream",
     "text": [
      "  Transcription finished.\n",
      "\n",
      "Processing: fn000494.wav (Speaker: N000194, Comp: comp-q)\n",
      "  Parsed 223 segments using simple timestamp format.\n",
      "  Reference found and parsed: fn000494.ort\n",
      "  Starting transcription with fine-tuned model...\n"
     ]
    },
    {
     "name": "stderr",
     "output_type": "stream",
     "text": [
      "/home/tdamen/.local/lib/python3.10/site-packages/transformers/models/whisper/generation_whisper.py:573: FutureWarning: The input name `inputs` is deprecated. Please make sure to use `input_features` instead.\n",
      "  warnings.warn(\n",
      "Transcribing PureDutchChildren_7_11_Large_3_finetuned:  51%|█████▏    | 40/78 [41:44<41:43, 65.88s/it]"
     ]
    },
    {
     "name": "stdout",
     "output_type": "stream",
     "text": [
      "  Transcription finished.\n",
      "\n",
      "Processing: fn000497.wav (Speaker: N000195, Comp: comp-q)\n",
      "  Parsed 236 segments using simple timestamp format.\n",
      "  Reference found and parsed: fn000497.ort\n",
      "  Starting transcription with fine-tuned model...\n"
     ]
    },
    {
     "name": "stderr",
     "output_type": "stream",
     "text": [
      "/home/tdamen/.local/lib/python3.10/site-packages/transformers/models/whisper/generation_whisper.py:573: FutureWarning: The input name `inputs` is deprecated. Please make sure to use `input_features` instead.\n",
      "  warnings.warn(\n",
      "Transcribing PureDutchChildren_7_11_Large_3_finetuned:  53%|█████▎    | 41/78 [43:08<43:59, 71.34s/it]"
     ]
    },
    {
     "name": "stdout",
     "output_type": "stream",
     "text": [
      "  Transcription finished.\n",
      "\n",
      "Processing: fn000503.wav (Speaker: N000197, Comp: comp-q)\n",
      "  Parsed 240 segments using simple timestamp format.\n",
      "  Reference found and parsed: fn000503.ort\n",
      "  Starting transcription with fine-tuned model...\n"
     ]
    },
    {
     "name": "stderr",
     "output_type": "stream",
     "text": [
      "/home/tdamen/.local/lib/python3.10/site-packages/transformers/models/whisper/generation_whisper.py:573: FutureWarning: The input name `inputs` is deprecated. Please make sure to use `input_features` instead.\n",
      "  warnings.warn(\n",
      "Transcribing PureDutchChildren_7_11_Large_3_finetuned:  54%|█████▍    | 42/78 [44:33<45:22, 75.62s/it]"
     ]
    },
    {
     "name": "stdout",
     "output_type": "stream",
     "text": [
      "  Transcription finished.\n",
      "\n",
      "Processing: fn000510.wav (Speaker: N000199, Comp: comp-q)\n",
      "  Parsed 182 segments using simple timestamp format.\n",
      "  Reference found and parsed: fn000510.ort\n",
      "  Starting transcription with fine-tuned model...\n"
     ]
    },
    {
     "name": "stderr",
     "output_type": "stream",
     "text": [
      "/home/tdamen/.local/lib/python3.10/site-packages/transformers/models/whisper/generation_whisper.py:573: FutureWarning: The input name `inputs` is deprecated. Please make sure to use `input_features` instead.\n",
      "  warnings.warn(\n",
      "Transcribing PureDutchChildren_7_11_Large_3_finetuned:  55%|█████▌    | 43/78 [45:47<43:49, 75.12s/it]"
     ]
    },
    {
     "name": "stdout",
     "output_type": "stream",
     "text": [
      "  Transcription finished.\n",
      "\n",
      "Processing: fn000515.wav (Speaker: N000200, Comp: comp-q)\n",
      "  Parsed 194 segments using simple timestamp format.\n",
      "  Reference found and parsed: fn000515.ort\n",
      "  Starting transcription with fine-tuned model...\n"
     ]
    },
    {
     "name": "stderr",
     "output_type": "stream",
     "text": [
      "/home/tdamen/.local/lib/python3.10/site-packages/transformers/models/whisper/generation_whisper.py:573: FutureWarning: The input name `inputs` is deprecated. Please make sure to use `input_features` instead.\n",
      "  warnings.warn(\n",
      "Whisper did not predict an ending timestamp, which can happen if audio is cut off in the middle of a word. Also make sure WhisperTimeStampLogitsProcessor was used during generation.\n",
      "Transcribing PureDutchChildren_7_11_Large_3_finetuned:  56%|█████▋    | 44/78 [47:14<44:35, 78.68s/it]"
     ]
    },
    {
     "name": "stdout",
     "output_type": "stream",
     "text": [
      "  Transcription finished.\n",
      "\n",
      "Processing: fn000518.wav (Speaker: N000201, Comp: comp-q)\n",
      "  Parsed 225 segments using simple timestamp format.\n",
      "  Reference found and parsed: fn000518.ort\n",
      "  Starting transcription with fine-tuned model...\n"
     ]
    },
    {
     "name": "stderr",
     "output_type": "stream",
     "text": [
      "/home/tdamen/.local/lib/python3.10/site-packages/transformers/models/whisper/generation_whisper.py:573: FutureWarning: The input name `inputs` is deprecated. Please make sure to use `input_features` instead.\n",
      "  warnings.warn(\n",
      "Transcribing PureDutchChildren_7_11_Large_3_finetuned:  58%|█████▊    | 45/78 [48:25<42:02, 76.42s/it]"
     ]
    },
    {
     "name": "stdout",
     "output_type": "stream",
     "text": [
      "  Transcription finished.\n",
      "\n",
      "Processing: fn000521.wav (Speaker: N000202, Comp: comp-q)\n",
      "  Parsed 191 segments using simple timestamp format.\n",
      "  Reference found and parsed: fn000521.ort\n",
      "  Starting transcription with fine-tuned model...\n"
     ]
    },
    {
     "name": "stderr",
     "output_type": "stream",
     "text": [
      "/home/tdamen/.local/lib/python3.10/site-packages/transformers/models/whisper/generation_whisper.py:573: FutureWarning: The input name `inputs` is deprecated. Please make sure to use `input_features` instead.\n",
      "  warnings.warn(\n",
      "Transcribing PureDutchChildren_7_11_Large_3_finetuned:  59%|█████▉    | 46/78 [49:24<37:56, 71.13s/it]"
     ]
    },
    {
     "name": "stdout",
     "output_type": "stream",
     "text": [
      "  Transcription finished.\n",
      "\n",
      "Processing: fn000524.wav (Speaker: N000203, Comp: comp-q)\n",
      "  Parsed 253 segments using simple timestamp format.\n",
      "  Reference found and parsed: fn000524.ort\n",
      "  Starting transcription with fine-tuned model...\n"
     ]
    },
    {
     "name": "stderr",
     "output_type": "stream",
     "text": [
      "/home/tdamen/.local/lib/python3.10/site-packages/transformers/models/whisper/generation_whisper.py:573: FutureWarning: The input name `inputs` is deprecated. Please make sure to use `input_features` instead.\n",
      "  warnings.warn(\n",
      "Transcribing PureDutchChildren_7_11_Large_3_finetuned:  60%|██████    | 47/78 [50:52<39:22, 76.21s/it]"
     ]
    },
    {
     "name": "stdout",
     "output_type": "stream",
     "text": [
      "  Transcription finished.\n",
      "\n",
      "Processing: fn000534.wav (Speaker: N000206, Comp: comp-q)\n",
      "  Parsed 188 segments using simple timestamp format.\n",
      "  Reference found and parsed: fn000534.ort\n",
      "  Starting transcription with fine-tuned model...\n"
     ]
    },
    {
     "name": "stderr",
     "output_type": "stream",
     "text": [
      "/home/tdamen/.local/lib/python3.10/site-packages/transformers/models/whisper/generation_whisper.py:573: FutureWarning: The input name `inputs` is deprecated. Please make sure to use `input_features` instead.\n",
      "  warnings.warn(\n",
      "Transcribing PureDutchChildren_7_11_Large_3_finetuned:  62%|██████▏   | 48/78 [52:17<39:21, 78.72s/it]"
     ]
    },
    {
     "name": "stdout",
     "output_type": "stream",
     "text": [
      "  Transcription finished.\n",
      "\n",
      "Processing: fn000537.wav (Speaker: N000207, Comp: comp-q)\n",
      "  Parsed 183 segments using simple timestamp format.\n",
      "  Reference found and parsed: fn000537.ort\n",
      "  Starting transcription with fine-tuned model...\n"
     ]
    },
    {
     "name": "stderr",
     "output_type": "stream",
     "text": [
      "/home/tdamen/.local/lib/python3.10/site-packages/transformers/models/whisper/generation_whisper.py:573: FutureWarning: The input name `inputs` is deprecated. Please make sure to use `input_features` instead.\n",
      "  warnings.warn(\n",
      "Whisper did not predict an ending timestamp, which can happen if audio is cut off in the middle of a word. Also make sure WhisperTimeStampLogitsProcessor was used during generation.\n",
      "Transcribing PureDutchChildren_7_11_Large_3_finetuned:  63%|██████▎   | 49/78 [53:33<37:41, 77.99s/it]"
     ]
    },
    {
     "name": "stdout",
     "output_type": "stream",
     "text": [
      "  Transcription finished.\n",
      "\n",
      "Processing: fn000546.wav (Speaker: N000210, Comp: comp-q)\n",
      "  Parsed 181 segments using simple timestamp format.\n",
      "  Reference found and parsed: fn000546.ort\n",
      "  Starting transcription with fine-tuned model...\n"
     ]
    },
    {
     "name": "stderr",
     "output_type": "stream",
     "text": [
      "/home/tdamen/.local/lib/python3.10/site-packages/transformers/models/whisper/generation_whisper.py:573: FutureWarning: The input name `inputs` is deprecated. Please make sure to use `input_features` instead.\n",
      "  warnings.warn(\n",
      "Whisper did not predict an ending timestamp, which can happen if audio is cut off in the middle of a word. Also make sure WhisperTimeStampLogitsProcessor was used during generation.\n",
      "Transcribing PureDutchChildren_7_11_Large_3_finetuned:  64%|██████▍   | 50/78 [54:42<35:06, 75.23s/it]"
     ]
    },
    {
     "name": "stdout",
     "output_type": "stream",
     "text": [
      "  Transcription finished.\n",
      "\n",
      "Processing: fn000549.wav (Speaker: N000211, Comp: comp-q)\n",
      "  Parsed 254 segments using simple timestamp format.\n",
      "  Reference found and parsed: fn000549.ort\n",
      "  Starting transcription with fine-tuned model...\n"
     ]
    },
    {
     "name": "stderr",
     "output_type": "stream",
     "text": [
      "/home/tdamen/.local/lib/python3.10/site-packages/transformers/models/whisper/generation_whisper.py:573: FutureWarning: The input name `inputs` is deprecated. Please make sure to use `input_features` instead.\n",
      "  warnings.warn(\n",
      "Whisper did not predict an ending timestamp, which can happen if audio is cut off in the middle of a word. Also make sure WhisperTimeStampLogitsProcessor was used during generation.\n",
      "Transcribing PureDutchChildren_7_11_Large_3_finetuned:  65%|██████▌   | 51/78 [56:00<34:12, 76.02s/it]"
     ]
    },
    {
     "name": "stdout",
     "output_type": "stream",
     "text": [
      "  Transcription finished.\n",
      "\n",
      "Processing: fn000555.wav (Speaker: N000213, Comp: comp-q)\n",
      "  Parsed 184 segments using simple timestamp format.\n",
      "  Reference found and parsed: fn000555.ort\n",
      "  Starting transcription with fine-tuned model...\n"
     ]
    },
    {
     "name": "stderr",
     "output_type": "stream",
     "text": [
      "/home/tdamen/.local/lib/python3.10/site-packages/transformers/models/whisper/generation_whisper.py:573: FutureWarning: The input name `inputs` is deprecated. Please make sure to use `input_features` instead.\n",
      "  warnings.warn(\n",
      "Transcribing PureDutchChildren_7_11_Large_3_finetuned:  67%|██████▋   | 52/78 [57:03<31:20, 72.31s/it]"
     ]
    },
    {
     "name": "stdout",
     "output_type": "stream",
     "text": [
      "  Transcription finished.\n",
      "\n",
      "Processing: fn000558.wav (Speaker: N000214, Comp: comp-q)\n",
      "  Parsed 193 segments using simple timestamp format.\n",
      "  Reference found and parsed: fn000558.ort\n",
      "  Starting transcription with fine-tuned model...\n"
     ]
    },
    {
     "name": "stderr",
     "output_type": "stream",
     "text": [
      "/home/tdamen/.local/lib/python3.10/site-packages/transformers/models/whisper/generation_whisper.py:573: FutureWarning: The input name `inputs` is deprecated. Please make sure to use `input_features` instead.\n",
      "  warnings.warn(\n",
      "Transcribing PureDutchChildren_7_11_Large_3_finetuned:  68%|██████▊   | 53/78 [58:45<33:49, 81.20s/it]"
     ]
    },
    {
     "name": "stdout",
     "output_type": "stream",
     "text": [
      "  Transcription finished.\n",
      "\n",
      "Processing: fv160205.wav (Speaker: V000215, Comp: comp-q)\n",
      "  Parsed 141 segments using simple timestamp format.\n",
      "  Reference found and parsed: fv160205.ort\n",
      "  Starting transcription with fine-tuned model...\n"
     ]
    },
    {
     "name": "stderr",
     "output_type": "stream",
     "text": [
      "/home/tdamen/.local/lib/python3.10/site-packages/transformers/models/whisper/generation_whisper.py:573: FutureWarning: The input name `inputs` is deprecated. Please make sure to use `input_features` instead.\n",
      "  warnings.warn(\n",
      "Whisper did not predict an ending timestamp, which can happen if audio is cut off in the middle of a word. Also make sure WhisperTimeStampLogitsProcessor was used during generation.\n",
      "Transcribing PureDutchChildren_7_11_Large_3_finetuned:  69%|██████▉   | 54/78 [59:24<27:20, 68.36s/it]/home/tdamen/.local/lib/python3.10/site-packages/transformers/models/whisper/generation_whisper.py:573: FutureWarning: The input name `inputs` is deprecated. Please make sure to use `input_features` instead.\n",
      "  warnings.warn(\n"
     ]
    },
    {
     "name": "stdout",
     "output_type": "stream",
     "text": [
      "  Transcription finished.\n",
      "\n",
      "Processing: fv170058.wav (Speaker: V000072, Comp: comp-q)\n",
      "  Parsed 112 segments using simple timestamp format.\n",
      "  Reference found and parsed: fv170058.ort\n",
      "  Starting transcription with fine-tuned model...\n"
     ]
    },
    {
     "name": "stderr",
     "output_type": "stream",
     "text": [
      "Transcribing PureDutchChildren_7_11_Large_3_finetuned:  71%|███████   | 55/78 [1:00:03<22:48, 59.52s/it]"
     ]
    },
    {
     "name": "stdout",
     "output_type": "stream",
     "text": [
      "  Transcription finished.\n",
      "\n",
      "Processing: fv170061.wav (Speaker: V000074, Comp: comp-q)\n",
      "  Parsed 145 segments using simple timestamp format.\n",
      "  Reference found and parsed: fv170061.ort\n",
      "  Starting transcription with fine-tuned model...\n"
     ]
    },
    {
     "name": "stderr",
     "output_type": "stream",
     "text": [
      "/home/tdamen/.local/lib/python3.10/site-packages/transformers/models/whisper/generation_whisper.py:573: FutureWarning: The input name `inputs` is deprecated. Please make sure to use `input_features` instead.\n",
      "  warnings.warn(\n",
      "Whisper did not predict an ending timestamp, which can happen if audio is cut off in the middle of a word. Also make sure WhisperTimeStampLogitsProcessor was used during generation.\n",
      "Transcribing PureDutchChildren_7_11_Large_3_finetuned:  72%|███████▏  | 56/78 [1:01:03<21:52, 59.67s/it]/home/tdamen/.local/lib/python3.10/site-packages/transformers/models/whisper/generation_whisper.py:573: FutureWarning: The input name `inputs` is deprecated. Please make sure to use `input_features` instead.\n",
      "  warnings.warn(\n"
     ]
    },
    {
     "name": "stdout",
     "output_type": "stream",
     "text": [
      "  Transcription finished.\n",
      "\n",
      "Processing: fv170064.wav (Speaker: V000077, Comp: comp-q)\n",
      "  Parsed 115 segments using simple timestamp format.\n",
      "  Reference found and parsed: fv170064.ort\n",
      "  Starting transcription with fine-tuned model...\n"
     ]
    },
    {
     "name": "stderr",
     "output_type": "stream",
     "text": [
      "Transcribing PureDutchChildren_7_11_Large_3_finetuned:  73%|███████▎  | 57/78 [1:01:51<19:42, 56.32s/it]"
     ]
    },
    {
     "name": "stdout",
     "output_type": "stream",
     "text": [
      "  Transcription finished.\n",
      "\n",
      "Processing: fv170073.wav (Speaker: V000086, Comp: comp-q)\n",
      "  Parsed 118 segments using simple timestamp format.\n",
      "  Reference found and parsed: fv170073.ort\n",
      "  Starting transcription with fine-tuned model...\n"
     ]
    },
    {
     "name": "stderr",
     "output_type": "stream",
     "text": [
      "/home/tdamen/.local/lib/python3.10/site-packages/transformers/models/whisper/generation_whisper.py:573: FutureWarning: The input name `inputs` is deprecated. Please make sure to use `input_features` instead.\n",
      "  warnings.warn(\n",
      "Transcribing PureDutchChildren_7_11_Large_3_finetuned:  74%|███████▍  | 58/78 [1:02:08<14:48, 44.44s/it]"
     ]
    },
    {
     "name": "stdout",
     "output_type": "stream",
     "text": [
      "  Transcription finished.\n",
      "\n",
      "Processing: fv170074.wav (Speaker: V000087, Comp: comp-q)\n",
      "  Parsed 215 segments using simple timestamp format.\n",
      "  Reference found and parsed: fv170074.ort\n",
      "  Starting transcription with fine-tuned model...\n"
     ]
    },
    {
     "name": "stderr",
     "output_type": "stream",
     "text": [
      "/home/tdamen/.local/lib/python3.10/site-packages/transformers/models/whisper/generation_whisper.py:573: FutureWarning: The input name `inputs` is deprecated. Please make sure to use `input_features` instead.\n",
      "  warnings.warn(\n",
      "Transcribing PureDutchChildren_7_11_Large_3_finetuned:  76%|███████▌  | 59/78 [1:03:01<14:55, 47.12s/it]"
     ]
    },
    {
     "name": "stdout",
     "output_type": "stream",
     "text": [
      "  Transcription finished.\n",
      "\n",
      "Processing: fv170075.wav (Speaker: V000088, Comp: comp-q)\n",
      "  Parsed 199 segments using simple timestamp format.\n",
      "  Reference found and parsed: fv170075.ort\n",
      "  Starting transcription with fine-tuned model...\n"
     ]
    },
    {
     "name": "stderr",
     "output_type": "stream",
     "text": [
      "/home/tdamen/.local/lib/python3.10/site-packages/transformers/models/whisper/generation_whisper.py:573: FutureWarning: The input name `inputs` is deprecated. Please make sure to use `input_features` instead.\n",
      "  warnings.warn(\n",
      "Transcribing PureDutchChildren_7_11_Large_3_finetuned:  77%|███████▋  | 60/78 [1:03:53<14:31, 48.42s/it]"
     ]
    },
    {
     "name": "stdout",
     "output_type": "stream",
     "text": [
      "  Transcription finished.\n",
      "\n",
      "Processing: fv170076.wav (Speaker: V000089, Comp: comp-q)\n",
      "  Parsed 146 segments using simple timestamp format.\n",
      "  Reference found and parsed: fv170076.ort\n",
      "  Starting transcription with fine-tuned model...\n"
     ]
    },
    {
     "name": "stderr",
     "output_type": "stream",
     "text": [
      "/home/tdamen/.local/lib/python3.10/site-packages/transformers/models/whisper/generation_whisper.py:573: FutureWarning: The input name `inputs` is deprecated. Please make sure to use `input_features` instead.\n",
      "  warnings.warn(\n",
      "Whisper did not predict an ending timestamp, which can happen if audio is cut off in the middle of a word. Also make sure WhisperTimeStampLogitsProcessor was used during generation.\n",
      "Transcribing PureDutchChildren_7_11_Large_3_finetuned:  78%|███████▊  | 61/78 [1:04:32<12:54, 45.57s/it]"
     ]
    },
    {
     "name": "stdout",
     "output_type": "stream",
     "text": [
      "  Transcription finished.\n",
      "\n",
      "Processing: fv170077.wav (Speaker: V000090, Comp: comp-q)\n",
      "  Parsed 173 segments using simple timestamp format.\n",
      "  Reference found and parsed: fv170077.ort\n",
      "  Starting transcription with fine-tuned model...\n"
     ]
    },
    {
     "name": "stderr",
     "output_type": "stream",
     "text": [
      "/home/tdamen/.local/lib/python3.10/site-packages/transformers/models/whisper/generation_whisper.py:573: FutureWarning: The input name `inputs` is deprecated. Please make sure to use `input_features` instead.\n",
      "  warnings.warn(\n",
      "Whisper did not predict an ending timestamp, which can happen if audio is cut off in the middle of a word. Also make sure WhisperTimeStampLogitsProcessor was used during generation.\n",
      "Transcribing PureDutchChildren_7_11_Large_3_finetuned:  79%|███████▉  | 62/78 [1:05:24<12:40, 47.51s/it]"
     ]
    },
    {
     "name": "stdout",
     "output_type": "stream",
     "text": [
      "  Transcription finished.\n",
      "\n",
      "Processing: fv170078.wav (Speaker: V000091, Comp: comp-q)\n",
      "  Parsed 174 segments using simple timestamp format.\n",
      "  Reference found and parsed: fv170078.ort\n",
      "  Starting transcription with fine-tuned model...\n"
     ]
    },
    {
     "name": "stderr",
     "output_type": "stream",
     "text": [
      "/home/tdamen/.local/lib/python3.10/site-packages/transformers/models/whisper/generation_whisper.py:573: FutureWarning: The input name `inputs` is deprecated. Please make sure to use `input_features` instead.\n",
      "  warnings.warn(\n",
      "Whisper did not predict an ending timestamp, which can happen if audio is cut off in the middle of a word. Also make sure WhisperTimeStampLogitsProcessor was used during generation.\n",
      "Transcribing PureDutchChildren_7_11_Large_3_finetuned:  81%|████████  | 63/78 [1:06:11<11:52, 47.49s/it]"
     ]
    },
    {
     "name": "stdout",
     "output_type": "stream",
     "text": [
      "  Transcription finished.\n",
      "\n",
      "Processing: fv170079.wav (Speaker: V000092, Comp: comp-q)\n",
      "  Parsed 165 segments using simple timestamp format.\n",
      "  Reference found and parsed: fv170079.ort\n",
      "  Starting transcription with fine-tuned model...\n"
     ]
    },
    {
     "name": "stderr",
     "output_type": "stream",
     "text": [
      "/home/tdamen/.local/lib/python3.10/site-packages/transformers/models/whisper/generation_whisper.py:573: FutureWarning: The input name `inputs` is deprecated. Please make sure to use `input_features` instead.\n",
      "  warnings.warn(\n",
      "Transcribing PureDutchChildren_7_11_Large_3_finetuned:  82%|████████▏ | 64/78 [1:07:10<11:54, 51.03s/it]"
     ]
    },
    {
     "name": "stdout",
     "output_type": "stream",
     "text": [
      "  Transcription finished.\n",
      "\n",
      "Processing: fv170080.wav (Speaker: V000093, Comp: comp-q)\n",
      "  Parsed 124 segments using simple timestamp format.\n",
      "  Reference found and parsed: fv170080.ort\n",
      "  Starting transcription with fine-tuned model...\n"
     ]
    },
    {
     "name": "stderr",
     "output_type": "stream",
     "text": [
      "/home/tdamen/.local/lib/python3.10/site-packages/transformers/models/whisper/generation_whisper.py:573: FutureWarning: The input name `inputs` is deprecated. Please make sure to use `input_features` instead.\n",
      "  warnings.warn(\n",
      "Whisper did not predict an ending timestamp, which can happen if audio is cut off in the middle of a word. Also make sure WhisperTimeStampLogitsProcessor was used during generation.\n",
      "Transcribing PureDutchChildren_7_11_Large_3_finetuned:  83%|████████▎ | 65/78 [1:07:42<09:47, 45.23s/it]"
     ]
    },
    {
     "name": "stdout",
     "output_type": "stream",
     "text": [
      "  Transcription finished.\n",
      "\n",
      "Processing: fv170081.wav (Speaker: V000094, Comp: comp-q)\n",
      "  Parsed 198 segments using simple timestamp format.\n",
      "  Reference found and parsed: fv170081.ort\n",
      "  Starting transcription with fine-tuned model...\n"
     ]
    },
    {
     "name": "stderr",
     "output_type": "stream",
     "text": [
      "/home/tdamen/.local/lib/python3.10/site-packages/transformers/models/whisper/generation_whisper.py:573: FutureWarning: The input name `inputs` is deprecated. Please make sure to use `input_features` instead.\n",
      "  warnings.warn(\n",
      "Transcribing PureDutchChildren_7_11_Large_3_finetuned:  85%|████████▍ | 66/78 [1:08:51<10:27, 52.28s/it]"
     ]
    },
    {
     "name": "stdout",
     "output_type": "stream",
     "text": [
      "  Transcription finished.\n",
      "\n",
      "Processing: fv170083.wav (Speaker: V000096, Comp: comp-q)\n",
      "  Parsed 161 segments using simple timestamp format.\n",
      "  Reference found and parsed: fv170083.ort\n",
      "  Starting transcription with fine-tuned model...\n"
     ]
    },
    {
     "name": "stderr",
     "output_type": "stream",
     "text": [
      "/home/tdamen/.local/lib/python3.10/site-packages/transformers/models/whisper/generation_whisper.py:573: FutureWarning: The input name `inputs` is deprecated. Please make sure to use `input_features` instead.\n",
      "  warnings.warn(\n",
      "Whisper did not predict an ending timestamp, which can happen if audio is cut off in the middle of a word. Also make sure WhisperTimeStampLogitsProcessor was used during generation.\n",
      "Transcribing PureDutchChildren_7_11_Large_3_finetuned:  86%|████████▌ | 67/78 [1:10:08<10:56, 59.68s/it]"
     ]
    },
    {
     "name": "stdout",
     "output_type": "stream",
     "text": [
      "  Transcription finished.\n",
      "\n",
      "Processing: fv170084.wav (Speaker: V000097, Comp: comp-q)\n",
      "  Parsed 147 segments using simple timestamp format.\n",
      "  Reference found and parsed: fv170084.ort\n",
      "  Starting transcription with fine-tuned model...\n"
     ]
    },
    {
     "name": "stderr",
     "output_type": "stream",
     "text": [
      "/home/tdamen/.local/lib/python3.10/site-packages/transformers/models/whisper/generation_whisper.py:573: FutureWarning: The input name `inputs` is deprecated. Please make sure to use `input_features` instead.\n",
      "  warnings.warn(\n",
      "Transcribing PureDutchChildren_7_11_Large_3_finetuned:  87%|████████▋ | 68/78 [1:11:20<10:34, 63.48s/it]"
     ]
    },
    {
     "name": "stdout",
     "output_type": "stream",
     "text": [
      "  Transcription finished.\n",
      "\n",
      "Processing: fv170101.wav (Speaker: V000115, Comp: comp-q)\n",
      "  Parsed 125 segments using simple timestamp format.\n",
      "  Reference found and parsed: fv170101.ort\n",
      "  Starting transcription with fine-tuned model...\n"
     ]
    },
    {
     "name": "stderr",
     "output_type": "stream",
     "text": [
      "/home/tdamen/.local/lib/python3.10/site-packages/transformers/models/whisper/generation_whisper.py:573: FutureWarning: The input name `inputs` is deprecated. Please make sure to use `input_features` instead.\n",
      "  warnings.warn(\n",
      "Transcribing PureDutchChildren_7_11_Large_3_finetuned:  88%|████████▊ | 69/78 [1:12:14<09:06, 60.73s/it]"
     ]
    },
    {
     "name": "stdout",
     "output_type": "stream",
     "text": [
      "  Transcription finished.\n",
      "\n",
      "Processing: fv170107.wav (Speaker: V000121, Comp: comp-q)\n",
      "  Parsed 160 segments using simple timestamp format.\n",
      "  Reference found and parsed: fv170107.ort\n",
      "  Starting transcription with fine-tuned model...\n"
     ]
    },
    {
     "name": "stderr",
     "output_type": "stream",
     "text": [
      "/home/tdamen/.local/lib/python3.10/site-packages/transformers/models/whisper/generation_whisper.py:573: FutureWarning: The input name `inputs` is deprecated. Please make sure to use `input_features` instead.\n",
      "  warnings.warn(\n",
      "Transcribing PureDutchChildren_7_11_Large_3_finetuned:  90%|████████▉ | 70/78 [1:13:05<07:40, 57.62s/it]"
     ]
    },
    {
     "name": "stdout",
     "output_type": "stream",
     "text": [
      "  Transcription finished.\n",
      "\n",
      "Processing: fv170110.wav (Speaker: V000124, Comp: comp-q)\n",
      "  Parsed 161 segments using simple timestamp format.\n",
      "  Reference found and parsed: fv170110.ort\n",
      "  Starting transcription with fine-tuned model...\n"
     ]
    },
    {
     "name": "stderr",
     "output_type": "stream",
     "text": [
      "/home/tdamen/.local/lib/python3.10/site-packages/transformers/models/whisper/generation_whisper.py:573: FutureWarning: The input name `inputs` is deprecated. Please make sure to use `input_features` instead.\n",
      "  warnings.warn(\n",
      "Whisper did not predict an ending timestamp, which can happen if audio is cut off in the middle of a word. Also make sure WhisperTimeStampLogitsProcessor was used during generation.\n",
      "Transcribing PureDutchChildren_7_11_Large_3_finetuned:  91%|█████████ | 71/78 [1:13:40<05:55, 50.83s/it]"
     ]
    },
    {
     "name": "stdout",
     "output_type": "stream",
     "text": [
      "  Transcription finished.\n",
      "\n",
      "Processing: fv170114.wav (Speaker: V000128, Comp: comp-q)\n",
      "  Parsed 185 segments using simple timestamp format.\n",
      "  Reference found and parsed: fv170114.ort\n",
      "  Starting transcription with fine-tuned model...\n"
     ]
    },
    {
     "name": "stderr",
     "output_type": "stream",
     "text": [
      "/home/tdamen/.local/lib/python3.10/site-packages/transformers/models/whisper/generation_whisper.py:573: FutureWarning: The input name `inputs` is deprecated. Please make sure to use `input_features` instead.\n",
      "  warnings.warn(\n",
      "Transcribing PureDutchChildren_7_11_Large_3_finetuned:  92%|█████████▏| 72/78 [1:14:23<04:51, 48.64s/it]"
     ]
    },
    {
     "name": "stdout",
     "output_type": "stream",
     "text": [
      "  Transcription finished.\n",
      "\n",
      "Processing: fv170115.wav (Speaker: V000129, Comp: comp-q)\n",
      "  Parsed 153 segments using simple timestamp format.\n",
      "  Reference found and parsed: fv170115.ort\n",
      "  Starting transcription with fine-tuned model...\n"
     ]
    },
    {
     "name": "stderr",
     "output_type": "stream",
     "text": [
      "/home/tdamen/.local/lib/python3.10/site-packages/transformers/models/whisper/generation_whisper.py:573: FutureWarning: The input name `inputs` is deprecated. Please make sure to use `input_features` instead.\n",
      "  warnings.warn(\n",
      "Transcribing PureDutchChildren_7_11_Large_3_finetuned:  94%|█████████▎| 73/78 [1:15:22<04:17, 51.56s/it]"
     ]
    },
    {
     "name": "stdout",
     "output_type": "stream",
     "text": [
      "  Transcription finished.\n",
      "\n",
      "Processing: fv170120.wav (Speaker: V000131, Comp: comp-q)\n",
      "  Parsed 125 segments using simple timestamp format.\n",
      "  Reference found and parsed: fv170120.ort\n",
      "  Starting transcription with fine-tuned model...\n"
     ]
    },
    {
     "name": "stderr",
     "output_type": "stream",
     "text": [
      "/home/tdamen/.local/lib/python3.10/site-packages/transformers/models/whisper/generation_whisper.py:573: FutureWarning: The input name `inputs` is deprecated. Please make sure to use `input_features` instead.\n",
      "  warnings.warn(\n",
      "Whisper did not predict an ending timestamp, which can happen if audio is cut off in the middle of a word. Also make sure WhisperTimeStampLogitsProcessor was used during generation.\n",
      "Transcribing PureDutchChildren_7_11_Large_3_finetuned:  95%|█████████▍| 74/78 [1:15:59<03:08, 47.17s/it]"
     ]
    },
    {
     "name": "stdout",
     "output_type": "stream",
     "text": [
      "  Transcription finished.\n",
      "\n",
      "Processing: fv170128.wav (Speaker: V000138, Comp: comp-q)\n",
      "  Parsed 133 segments using simple timestamp format.\n",
      "  Reference found and parsed: fv170128.ort\n",
      "  Starting transcription with fine-tuned model...\n"
     ]
    },
    {
     "name": "stderr",
     "output_type": "stream",
     "text": [
      "/home/tdamen/.local/lib/python3.10/site-packages/transformers/models/whisper/generation_whisper.py:573: FutureWarning: The input name `inputs` is deprecated. Please make sure to use `input_features` instead.\n",
      "  warnings.warn(\n",
      "Transcribing PureDutchChildren_7_11_Large_3_finetuned:  96%|█████████▌| 75/78 [1:16:52<02:27, 49.09s/it]"
     ]
    },
    {
     "name": "stdout",
     "output_type": "stream",
     "text": [
      "  Transcription finished.\n",
      "\n",
      "Processing: fv170132.wav (Speaker: V000142, Comp: comp-q)\n",
      "  Parsed 150 segments using simple timestamp format.\n",
      "  Reference found and parsed: fv170132.ort\n",
      "  Starting transcription with fine-tuned model...\n"
     ]
    },
    {
     "name": "stderr",
     "output_type": "stream",
     "text": [
      "/home/tdamen/.local/lib/python3.10/site-packages/transformers/models/whisper/generation_whisper.py:573: FutureWarning: The input name `inputs` is deprecated. Please make sure to use `input_features` instead.\n",
      "  warnings.warn(\n",
      "Whisper did not predict an ending timestamp, which can happen if audio is cut off in the middle of a word. Also make sure WhisperTimeStampLogitsProcessor was used during generation.\n",
      "Transcribing PureDutchChildren_7_11_Large_3_finetuned:  97%|█████████▋| 76/78 [1:17:50<01:43, 51.83s/it]"
     ]
    },
    {
     "name": "stdout",
     "output_type": "stream",
     "text": [
      "  Transcription finished.\n",
      "\n",
      "Processing: fv170196.wav (Speaker: V000222, Comp: comp-q)\n",
      "  Parsed 155 segments using simple timestamp format.\n",
      "  Reference found and parsed: fv170196.ort\n",
      "  Starting transcription with fine-tuned model...\n"
     ]
    },
    {
     "name": "stderr",
     "output_type": "stream",
     "text": [
      "/home/tdamen/.local/lib/python3.10/site-packages/transformers/models/whisper/generation_whisper.py:573: FutureWarning: The input name `inputs` is deprecated. Please make sure to use `input_features` instead.\n",
      "  warnings.warn(\n",
      "Transcribing PureDutchChildren_7_11_Large_3_finetuned:  99%|█████████▊| 77/78 [1:19:01<00:57, 57.60s/it]"
     ]
    },
    {
     "name": "stdout",
     "output_type": "stream",
     "text": [
      "  Transcription finished.\n",
      "\n",
      "Processing: fv170198.wav (Speaker: V000221, Comp: comp-q)\n",
      "  Parsed 129 segments using simple timestamp format.\n",
      "  Reference found and parsed: fv170198.ort\n",
      "  Starting transcription with fine-tuned model...\n"
     ]
    },
    {
     "name": "stderr",
     "output_type": "stream",
     "text": [
      "/home/tdamen/.local/lib/python3.10/site-packages/transformers/models/whisper/generation_whisper.py:573: FutureWarning: The input name `inputs` is deprecated. Please make sure to use `input_features` instead.\n",
      "  warnings.warn(\n",
      "Transcribing PureDutchChildren_7_11_Large_3_finetuned: 100%|██████████| 78/78 [1:20:26<00:00, 61.88s/it]"
     ]
    },
    {
     "name": "stdout",
     "output_type": "stream",
     "text": [
      "  Transcription finished.\n",
      "\n",
      "--- PureDutchChildren_7_11_Large_3_finetuned Processing Summary ---\n",
      "Selected 78 recordings for processing.\n",
      "Successfully processed: 78\n",
      "Skipped due to errors/missing files: 0\n",
      "Total processing time: 4826.96 seconds\n",
      "Avg. time per processed file: 61.88 seconds\n",
      "\n",
      "--- PureDutchChildren_7_11_Large_3_finetuned Reference File Summary ---\n",
      "Found & Parsed: 78\n",
      "Found but Failed to Parse: 0\n",
      "Not Found: 0\n",
      "Parse Success Rate (of processed files): 100.0%\n",
      "\n",
      "Summary results for PureDutchChildren_7_11_Large_3_finetuned saved to: /home/tdamen/whisper_transcriptions/PureDutchChildren_7_11_Large_3_finetuned/transcription_summary_PureDutchChildren_7_11_Large_3_finetuned.csv\n",
      "Generating WER analysis file for 'PureDutchChildren_7_11_Large_3_finetuned': /home/tdamen/whisper_transcriptions/PureDutchChildren_7_11_Large_3_finetuned/wer_analysis_PureDutchChildren_7_11_Large_3_finetuned.txt\n",
      "WER analysis file generated with 19 entries.\n",
      "===== Finished Group: PureDutchChildren_7_11_Large_3_finetuned =====\n"
     ]
    },
    {
     "name": "stderr",
     "output_type": "stream",
     "text": [
      "\n"
     ]
    }
   ],
   "source": [
    "import os\n",
    "import pandas as pd\n",
    "import numpy as np \n",
    "from transformers import pipeline \n",
    "import glob\n",
    "import torch\n",
    "from tqdm import tqdm\n",
    "import time\n",
    "import json\n",
    "import re\n",
    "import traceback \n",
    "import sys \n",
    "\n",
    "# --- Configuration ---\n",
    "# Set IS_TEST_RUN to True to process only NUM_FILES_TEST_RUN files\n",
    "IS_TEST_RUN = False\n",
    "NUM_FILES_TEST_RUN = 3\n",
    "os.environ[\"CUDA_VISIBLE_DEVICES\"] = \"1\"\n",
    "\n",
    "# --- Paths ---\n",
    "try:\n",
    "    script_dir = os.path.dirname(os.path.abspath(__file__))\n",
    "except NameError:\n",
    "    print(\"Warning: __file__ not defined. Using current working directory.\")\n",
    "    script_dir = os.getcwd()\n",
    "\n",
    "GROUP_NAME = \"PureDutchChildren_7_11_Large_3_finetuned\" \n",
    "SPEAKER_CODES_FILE = os.path.join(script_dir, 'output_codes', 'pure_dutch_children_7_11_codes.txt')\n",
    "OUTPUT_DIR = os.path.join(script_dir, 'whisper_transcriptions', GROUP_NAME)\n",
    "\n",
    "# Base paths for JASMIN data relative to script location\n",
    "base_data_path = os.path.join(script_dir, \"jasmin-data/Data/data/meta/text\")\n",
    "audio_root_dir = os.path.join(script_dir, \"jasmin-data/Data/data/\") # Root containing 'audio' folder\n",
    "jasmin_ort_base_path = os.path.join(script_dir, \"jasmin-data/Data/data/annot/text/ort\") # Base path for finding .ort files\n",
    "\n",
    "# Input recording metadata paths\n",
    "nl_recordings_path = os.path.join(base_data_path, \"nl/recordings.txt\")\n",
    "vl_recordings_path = os.path.join(base_data_path, \"vl/recordings.txt\")\n",
    "\n",
    "# Model Path (Path to your fine-tuned model directory) and Language\n",
    "FINETUNED_MODEL_PATH = \"/home/tdamen/whisper-finetuned-synthetic-only-large-v3\" # Path to your fine-tuned model\n",
    "TRANSCRIPTION_LANGUAGE = \"nl\"   # Language code for transcription (e.g., \"nl\" for Dutch/Flemish)\n",
    "\n",
    "# Component Filter (Set to None or empty string \"\" to process all components)\n",
    "TARGET_COMPONENT = \"comp-q\" # e.g., \"comp-q\" or None\n",
    "\n",
    "REC_META_SPEAKER_COL = \"SpeakerID\" # Column name for speaker ID in recordings.txt\n",
    "REC_META_COMPONENT_COL = \"Component\"   # Column name for component in recordings.txt\n",
    "REC_META_FILEROOT_COL = \"Root\"   # Column name for the unique file identifier in recordings.txt\n",
    "\n",
    "# --- Data Loading Function (Robust Version - from previous script) ---\n",
    "def load_data_with_delimiters(file_path, potential_delimiters=['\\t', r'\\s+'], encoding='ISO-8859-1', expected_cols=None):\n",
    "    \"\"\"Attempts to load a CSV/text file using a list of potential delimiters.\"\"\"\n",
    "    last_exception = None\n",
    "    encodings_to_try = ['utf-8', encoding] # Try UTF-8 first\n",
    "\n",
    "    for enc in encodings_to_try:\n",
    "        for delim_raw in potential_delimiters:\n",
    "            delim_repr = repr(delim_raw)\n",
    "            try:\n",
    "                engine = 'python' if delim_raw == r'\\s+' else None\n",
    "                df = pd.read_csv(file_path, sep=delim_raw, encoding=enc,\n",
    "                                 engine=engine, on_bad_lines='warn', low_memory=False,\n",
    "                                 skipinitialspace=True, comment='#', skip_blank_lines=True)\n",
    "\n",
    "                if df.empty: continue\n",
    "                df.columns = df.columns.str.strip()\n",
    "\n",
    "                if expected_cols:\n",
    "                    missing_cols = [col for col in expected_cols if col not in df.columns]\n",
    "                    if not missing_cols:\n",
    "                        first_col_name = df.columns[0]\n",
    "                        if first_col_name and df[first_col_name].notna().any():\n",
    "                            print(f\"Successfully loaded {os.path.basename(file_path)} with delimiter {delim_repr}, encoding '{enc}'.\")\n",
    "                            return df\n",
    "                elif df.shape[1] > 1:\n",
    "                     first_col_name = df.columns[0]\n",
    "                     if first_col_name and df[first_col_name].notna().any():\n",
    "                         print(f\"Successfully loaded {os.path.basename(file_path)} with delimiter {delim_repr}, encoding '{enc}' ({df.shape[1]} columns found).\")\n",
    "                         return df\n",
    "            except pd.errors.ParserError as pe: last_exception = pe\n",
    "            except Exception as e: last_exception = e\n",
    "\n",
    "    print(f\"Error: Could not successfully load file {file_path} with any specified delimiter/encoding.\")\n",
    "    if last_exception: print(f\"Last error encountered: {last_exception}\")\n",
    "    return None\n",
    "\n",
    "# --- Helper Functions ---\n",
    "def load_speaker_codes(filepath):\n",
    "    \"\"\"Loads speaker codes from a text file (one code per line).\"\"\"\n",
    "    if not os.path.exists(filepath):\n",
    "        print(f\"Error: Speaker codes file not found at '{filepath}'\")\n",
    "        return []\n",
    "    try:\n",
    "        with open(filepath, 'r', encoding='utf-8') as f:\n",
    "            codes = [line.strip() for line in f if line.strip()]\n",
    "        print(f\"Loaded {len(codes)} speaker codes from {os.path.basename(filepath)}\")\n",
    "        return codes\n",
    "    except Exception as e:\n",
    "        print(f\"Error reading speaker codes file '{filepath}': {e}\")\n",
    "        return []\n",
    "\n",
    "def find_ort_file(speaker_code, component, file_root, config):\n",
    "    \"\"\"\n",
    "    Finds the corresponding .ort file path based on known JASMIN structure.\n",
    "    Args: speaker_code, component, file_root, config dict with JASMIN_ORT_BASE_PATH.\n",
    "    Returns: Full path to .ort file or None.\n",
    "    \"\"\"\n",
    "    if not all([speaker_code, component, file_root]):\n",
    "        print(f\"  Warning: Missing info for .ort lookup (Speaker: {speaker_code}, Comp: {component}, Root: {file_root}).\")\n",
    "        return None\n",
    "    ort_filename = f\"{file_root}.ort\"\n",
    "    region = 'nl' if speaker_code.startswith('N') else 'vl' if speaker_code.startswith('V') else None\n",
    "    if not region:\n",
    "        print(f\"  Warning: Cannot determine region from speaker code '{speaker_code}' for .ort lookup.\")\n",
    "        return None\n",
    "    ort_path = os.path.join(config['JASMIN_ORT_BASE_PATH'], component, region, ort_filename)\n",
    "    ort_path = os.path.normpath(ort_path)\n",
    "    return ort_path if os.path.exists(ort_path) else None\n",
    "\n",
    "def parse_ort_file(ort_path):\n",
    "    \"\"\" Parses a .ort file (potentially Praat TextGrid), trying multiple encodings. \"\"\"\n",
    "    if not ort_path or not os.path.exists(ort_path): return None\n",
    "    encodings_to_try = ['utf-8', 'latin1', 'iso-8859-1', 'cp1252']\n",
    "    content = None; detected_encoding = None\n",
    "    for encoding in encodings_to_try:\n",
    "        try:\n",
    "            with open(ort_path, 'r', encoding=encoding) as f: content = f.read()\n",
    "            detected_encoding = encoding; break\n",
    "        except UnicodeDecodeError: continue\n",
    "        except Exception as e:\n",
    "            print(f\"  Warning: Error reading .ort file {ort_path} with encoding {encoding}: {e}\")\n",
    "            if not isinstance(e, UnicodeDecodeError): return None\n",
    "    if content is None:\n",
    "        print(f\"  Warning: Could not read .ort file '{os.path.basename(ort_path)}' with tried encodings.\")\n",
    "        return None\n",
    "\n",
    "    segments = []; lines = content.strip().split('\\n')\n",
    "    try:\n",
    "        # --- Strategy 1: Parse as Praat TextGrid ---\n",
    "        if len(lines) > 1 and (\"TextGrid\" in lines[1] or \"ooTextFile\" in lines[0]):\n",
    "            in_item = False; is_interval_tier = False; current_segment = {}\n",
    "            tier_name = None\n",
    "            # Find the relevant tier (e.g., 'ORT-MAU', 'ORT', 'transcript') - case insensitive\n",
    "            tier_found = False\n",
    "            target_tier_names = ['ort-mau', 'ort', 'transcript'] # Add other potential names\n",
    "            for i, line in enumerate(lines):\n",
    "                 line_lower = line.strip().lower()\n",
    "                 if line_lower.startswith(\"item [\"): tier_found = False # Reset for new item\n",
    "                 if line_lower.startswith(\"name =\"):\n",
    "                     current_tier_name_match = re.search(r'\"(.*)\"', line.strip())\n",
    "                     if current_tier_name_match:\n",
    "                         current_tier_name = current_tier_name_match.group(1).lower()\n",
    "                         if current_tier_name in target_tier_names:\n",
    "                             tier_name = current_tier_name\n",
    "                             tier_found = True\n",
    "                 if tier_found and \"IntervalTier\" in line: is_interval_tier = True; continue\n",
    "                 if tier_found and is_interval_tier and line.strip().startswith(\"item [\"): in_item = True; current_segment = {}; continue\n",
    "                 if in_item and is_interval_tier:\n",
    "                    line_strip = line.strip()\n",
    "                    if line_strip.startswith(\"xmin =\"): current_segment['start'] = float(line_strip.split('=')[1].strip())\n",
    "                    elif line_strip.startswith(\"xmax =\"): current_segment['end'] = float(line_strip.split('=')[1].strip())\n",
    "                    elif line_strip.startswith(\"text =\"):\n",
    "                        text_match = re.search(r'\"(.*)\"', line_strip)\n",
    "                        text = text_match.group(1).strip() if text_match else \"\"\n",
    "                        current_segment['text'] = text\n",
    "                        if 'start' in current_segment and 'end' in current_segment and 'text' in current_segment:\n",
    "                            # Only add segments with actual text content\n",
    "                            if current_segment['text'] and not current_segment['text'].isspace():\n",
    "                                segments.append(current_segment)\n",
    "                            in_item = False # Reset for next interval in the tier\n",
    "            if segments: print(f\"  Parsed {len(segments)} segments from TextGrid tier '{tier_name}'.\")\n",
    "\n",
    "        # --- Strategy 2: Simple format (Timestamp, Timestamp, \"Text\") ---\n",
    "        if not segments:\n",
    "            i = 0\n",
    "            while i < len(lines):\n",
    "                try:\n",
    "                    if i + 2 < len(lines):\n",
    "                        start_time = float(lines[i].strip())\n",
    "                        end_time = float(lines[i+1].strip())\n",
    "                        text_match = re.match(r'\\s*\"(.*)\"\\s*', lines[i+2])\n",
    "                        if text_match:\n",
    "                            text = text_match.group(1).strip()\n",
    "                            if text and not text.isspace(): segments.append({'start': start_time, 'end': end_time, 'text': text})\n",
    "                            i += 3; continue\n",
    "                except (ValueError, IndexError): pass\n",
    "                i += 1\n",
    "            if segments: print(f\"  Parsed {len(segments)} segments using simple timestamp format.\")\n",
    "\n",
    "        if segments: return segments\n",
    "        else:\n",
    "            print(f\"  Warning: Could not parse segments from '{os.path.basename(ort_path)}' (encoding: {detected_encoding}).\")\n",
    "            return None\n",
    "    except Exception as e:\n",
    "        print(f\"  Error during parsing .ort file {ort_path}: {e}\"); traceback.print_exc(); return None\n",
    "\n",
    "def format_whisper_segments(result_dict):\n",
    "    \"\"\"\n",
    "    Converts Whisper result segments (from Hugging Face pipeline or openai-whisper)\n",
    "    into a standardized list of dictionaries.\n",
    "    For Hugging Face pipeline with return_timestamps=True, result_dict[\"segments\"] will be\n",
    "    a list of {'text': ..., 'start': ..., 'end': ...}. The 'words' key will be missing.\n",
    "    \"\"\"\n",
    "    segments_out = []\n",
    "    for seg in result_dict.get('segments', []):\n",
    "        segments_out.append({\n",
    "            'start': seg.get('start'),\n",
    "            'end': seg.get('end'),\n",
    "            'text': seg.get('text', '').strip(),\n",
    "            'words': seg.get('words', []) # This will be empty if input `seg` doesn't have 'words'\n",
    "        })\n",
    "    return segments_out\n",
    "\n",
    "def clean_text_for_wer(text):\n",
    "    \"\"\"Basic text cleaning for WER calculation (uppercase, remove punctuation).\"\"\"\n",
    "    if not isinstance(text, str): return \"\"\n",
    "    text = text.upper()\n",
    "    text = re.sub(r'[^\\w\\s*]', '', text) # Keep '*' for potential markers\n",
    "    text = re.sub(r'\\s+', ' ', text).strip()\n",
    "    return text\n",
    "\n",
    "def prepare_wer_data(whisper_segments, ort_segments):\n",
    "    \"\"\"Prepares reference and hypothesis strings for WER analysis file.\"\"\"\n",
    "    if not ort_segments or not whisper_segments: return []\n",
    "    ref_full = \" \".join([seg['text'] for seg in ort_segments if seg.get('text')])\n",
    "    hyp_full = \" \".join([seg['text'] for seg in whisper_segments if seg.get('text')])\n",
    "    ref_clean = clean_text_for_wer(ref_full)\n",
    "    hyp_clean = clean_text_for_wer(hyp_full)\n",
    "    ops = \"?\"; csid = \"0 0 0 0\" # Placeholders, real WER tool needed\n",
    "    return [{'ref': ref_clean, 'hyp': hyp_clean, 'op': ops, 'csid': csid}]\n",
    "\n",
    "def save_results(output_dir, file_base_name, data_dict):\n",
    "    \"\"\"Saves detailed JSON and simple TXT results.\"\"\"\n",
    "    os.makedirs(output_dir, exist_ok=True) # Ensure dir exists\n",
    "    json_path = os.path.join(output_dir, f\"{file_base_name}.json\")\n",
    "    txt_path = os.path.join(output_dir, f\"{file_base_name}.txt\")\n",
    "    try:\n",
    "        with open(json_path, \"w\", encoding=\"utf-8\") as f:\n",
    "            # Convert numpy types for JSON serialization\n",
    "            def convert_numpy(obj):\n",
    "                if isinstance(obj, np.integer): return int(obj)\n",
    "                elif isinstance(obj, np.floating): return float(obj)\n",
    "                elif isinstance(obj, np.ndarray): return obj.tolist()\n",
    "                return obj\n",
    "            json.dump(data_dict, f, indent=2, ensure_ascii=False, default=convert_numpy)\n",
    "    except Exception as e: print(f\"  Error saving JSON to {json_path}: {e}\")\n",
    "    try:\n",
    "        with open(txt_path, \"w\", encoding=\"utf-8\") as f:\n",
    "            f.write(data_dict.get('transcription', ''))\n",
    "    except Exception as e: print(f\"  Error saving TXT to {txt_path}: {e}\")\n",
    "\n",
    "def generate_wer_analysis_file(results_list, output_dir, group_name):\n",
    "    \"\"\"Generates a text file suitable for input to WER calculation tools.\"\"\"\n",
    "    wer_output_path = os.path.join(output_dir, f\"wer_analysis_{group_name}.txt\")\n",
    "    entries_written = 0\n",
    "    valid_results = [r for r in results_list if r.get('reference_parsed', False)]\n",
    "    if not valid_results:\n",
    "        print(f\"No results with parsed references found for group '{group_name}', skipping WER analysis file.\")\n",
    "        return\n",
    "\n",
    "    print(f\"Generating WER analysis file for '{group_name}': {wer_output_path}\")\n",
    "    try:\n",
    "        with open(wer_output_path, \"w\", encoding=\"utf-8\") as f:\n",
    "            for result in valid_results:\n",
    "                file_id = f\"{result['speaker_code']}_{result['component']}_{result['file_root']}\"\n",
    "                json_file = os.path.join(output_dir, f\"{file_id}.json\")\n",
    "                wer_data_list = []\n",
    "                if os.path.exists(json_file):\n",
    "                    try:\n",
    "                        with open(json_file, \"r\", encoding=\"utf-8\") as jf:\n",
    "                             detailed_data = json.load(jf)\n",
    "                             wer_data_list = detailed_data.get('wer_data', [])\n",
    "                    except Exception as e: print(f\"  Warn: Could not reload JSON {json_file} for WER output: {e}\")\n",
    "\n",
    "                if wer_data_list:\n",
    "                     for wer_item in wer_data_list:\n",
    "                         f.write(f\"{file_id} ref {wer_item.get('ref','')}\\n\")\n",
    "                         f.write(f\"{file_id} hyp {wer_item.get('hyp','')}\\n\")\n",
    "                         f.write(f\"{file_id} op  {wer_item.get('op','?')}\\n\")\n",
    "                         f.write(f\"{file_id} #csid {wer_item.get('csid','0 0 0 0')}\\n\")\n",
    "                         entries_written += 1\n",
    "                else: print(f\"  Warn: No WER data found in {json_file} for {file_id}\")\n",
    "        if entries_written > 0: print(f\"WER analysis file generated with {entries_written // 4} entries.\")\n",
    "        else: print(f\"WER analysis file generation attempted, but no valid entries found/written.\")\n",
    "    except Exception as e: print(f\"Error generating WER analysis file: {e}\")\n",
    "\n",
    "\n",
    "# --- Main Execution ---\n",
    "def main():\n",
    "    # Combine configuration into a dictionary\n",
    "    config = {\n",
    "        'IS_TEST_RUN': IS_TEST_RUN,\n",
    "        'NUM_FILES_TEST_RUN': NUM_FILES_TEST_RUN,\n",
    "        'OUTPUT_DIR': OUTPUT_DIR, # Specific output dir for the group\n",
    "        'FINETUNED_MODEL_PATH': FINETUNED_MODEL_PATH, # Use the path to your fine-tuned model\n",
    "        'TRANSCRIPTION_LANGUAGE': TRANSCRIPTION_LANGUAGE,\n",
    "        'JASMIN_ORT_BASE_PATH': jasmin_ort_base_path,\n",
    "        'AUDIO_ROOT_DIR': audio_root_dir,\n",
    "        'TARGET_COMPONENT': TARGET_COMPONENT,\n",
    "        'GROUP_NAME': GROUP_NAME, # Add group name to config\n",
    "    }\n",
    "\n",
    "    # --- Setup ---\n",
    "    os.makedirs(config['OUTPUT_DIR'], exist_ok=True)\n",
    "    device_string = \"cuda\" if torch.cuda.is_available() else \"cpu\"\n",
    "    # For Hugging Face pipeline, device can be 0 for cuda:0, 1 for cuda:1, or -1 for CPU\n",
    "    device_pipeline = 0 if torch.cuda.is_available() else -1\n",
    "    print(f\"--- Starting Transcription for Group: {config['GROUP_NAME']} ---\")\n",
    "    print(f\"Using device: {device_string}\")\n",
    "    overall_start_time = time.time()\n",
    "\n",
    "    # --- Check Input Paths ---\n",
    "    input_paths_to_check = [nl_recordings_path, vl_recordings_path, SPEAKER_CODES_FILE, config['FINETUNED_MODEL_PATH']]\n",
    "    missing_paths = [p for p in input_paths_to_check if not os.path.exists(p)]\n",
    "    if missing_paths:\n",
    "        print(\"\\nError: Required input files/directories not found:\")\n",
    "        for p in missing_paths: print(f\"- {os.path.abspath(p)}\")\n",
    "        sys.exit(1)\n",
    "    if not os.path.isdir(config['AUDIO_ROOT_DIR']):\n",
    "        print(f\"\\nError: Audio root directory not found: {os.path.abspath(config['AUDIO_ROOT_DIR'])}\")\n",
    "        sys.exit(1)\n",
    "    print(\"\\nAll required input files and directories found.\")\n",
    "\n",
    "    # --- Load Speaker Codes for the target group ---\n",
    "    target_speaker_codes = load_speaker_codes(SPEAKER_CODES_FILE)\n",
    "    if not target_speaker_codes:\n",
    "        print(f\"No speaker codes loaded for group {config['GROUP_NAME']}. Exiting.\")\n",
    "        sys.exit(1)\n",
    "\n",
    "    # --- Load Recordings Metadata ---\n",
    "    print(\"\\n--- Loading Recording Metadata ---\")\n",
    "    expected_rec_cols = [REC_META_SPEAKER_COL, REC_META_COMPONENT_COL, REC_META_FILEROOT_COL]\n",
    "    nl_recordings = load_data_with_delimiters(nl_recordings_path, expected_cols=expected_rec_cols)\n",
    "    vl_recordings = load_data_with_delimiters(vl_recordings_path, expected_cols=expected_rec_cols)\n",
    "    all_recordings_df = None\n",
    "    loaded_rec_dfs = []\n",
    "    if nl_recordings is not None: loaded_rec_dfs.append(nl_recordings)\n",
    "    if vl_recordings is not None: loaded_rec_dfs.append(vl_recordings)\n",
    "    if loaded_rec_dfs:\n",
    "        all_recordings_df = pd.concat(loaded_rec_dfs, ignore_index=True)\n",
    "        print(f\"Combined {len(loaded_rec_dfs)} recording metadata file(s): {len(all_recordings_df)} total entries.\")\n",
    "    else:\n",
    "        print(\"\\nError: Failed to load any recording metadata. Exiting.\")\n",
    "        sys.exit(1)\n",
    "\n",
    "    # --- Filter Recordings Metadata for Target Group ---\n",
    "    print(f\"\\n--- Filtering Recordings for Group: {config['GROUP_NAME']} ---\")\n",
    "    speaker_codes_set = set(target_speaker_codes)\n",
    "    group_recordings_df = all_recordings_df[all_recordings_df[REC_META_SPEAKER_COL].isin(speaker_codes_set)].copy()\n",
    "\n",
    "    # Filter by component\n",
    "    if config['TARGET_COMPONENT']:\n",
    "        print(f\"Filtering recordings for component: '{config['TARGET_COMPONENT']}'\")\n",
    "        group_recordings_df = group_recordings_df[group_recordings_df[REC_META_COMPONENT_COL] == config['TARGET_COMPONENT']].copy()\n",
    "        print(f\"Found {len(group_recordings_df)} recordings matching speakers and component.\")\n",
    "    else:\n",
    "        print(f\"Found {len(group_recordings_df)} recordings matching speakers (all components).\")\n",
    "\n",
    "    if group_recordings_df.empty:\n",
    "        print(f\"No recordings found for group {config['GROUP_NAME']} after filtering. Exiting.\")\n",
    "        sys.exit(1)\n",
    "\n",
    "    # --- Load Fine-tuned Whisper Model using Hugging Face Pipeline ---\n",
    "    print(f\"\\n--- Loading Fine-tuned Whisper Model from '{config['FINETUNED_MODEL_PATH']}' ---\")\n",
    "    try:\n",
    "        # Using Hugging Face pipeline for automatic speech recognition\n",
    "        asr_pipeline = pipeline(\n",
    "            \"automatic-speech-recognition\",\n",
    "            model=config['FINETUNED_MODEL_PATH'],\n",
    "            device=device_pipeline # Use 0, 1, etc. for GPU, -1 for CPU\n",
    "        )\n",
    "        print(\"Fine-tuned model loaded into ASR pipeline.\")\n",
    "    except Exception as e:\n",
    "        print(f\"Error loading fine-tuned Whisper model with Hugging Face pipeline: {e}\")\n",
    "        import traceback\n",
    "        traceback.print_exc()\n",
    "        return\n",
    "\n",
    "    # --- Select files for processing (Test Run or All) ---\n",
    "    if config['IS_TEST_RUN']:\n",
    "        recordings_to_process = group_recordings_df.head(config['NUM_FILES_TEST_RUN'])\n",
    "        print(f\"--- TEST RUN: Processing first {len(recordings_to_process)} recordings for {config['GROUP_NAME']} ---\")\n",
    "    else:\n",
    "        recordings_to_process = group_recordings_df\n",
    "        print(f\"--- Processing all {len(recordings_to_process)} recordings for {config['GROUP_NAME']} ---\")\n",
    "\n",
    "    # --- Process Recordings ---\n",
    "    results_summary = []\n",
    "    start_time_group = time.time()\n",
    "    processed_count = 0\n",
    "    skipped_count = 0\n",
    "    ort_found_parsed_count = 0\n",
    "    ort_not_found_count = 0\n",
    "    ort_found_not_parsed_count = 0\n",
    "\n",
    "    for index, row in tqdm(recordings_to_process.iterrows(), total=len(recordings_to_process), desc=f\"Transcribing {config['GROUP_NAME']}\"):\n",
    "        try:\n",
    "            # Extract info from recordings metadata row\n",
    "            speaker_code = str(row[REC_META_SPEAKER_COL])\n",
    "            file_root = str(row[REC_META_FILEROOT_COL])\n",
    "            component = str(row[REC_META_COMPONENT_COL])\n",
    "            region = 'nl' if speaker_code.startswith('N') else 'vl' if speaker_code.startswith('V') else None\n",
    "\n",
    "            if not region:\n",
    "                print(f\"  Warning: Cannot determine region for SpeakerID '{speaker_code}'. Skipping.\")\n",
    "                skipped_count += 1\n",
    "                continue\n",
    "\n",
    "            # Construct original audio path\n",
    "            wav_path = os.path.join(config['AUDIO_ROOT_DIR'], 'audio', 'wav', component, region, f\"{file_root}.wav\")\n",
    "            wav_path = os.path.normpath(wav_path)\n",
    "            file_name = os.path.basename(wav_path)\n",
    "            # Use a consistent, unique base name for output files\n",
    "            file_base_name = f\"{speaker_code}_{component}_{file_root}\"\n",
    "\n",
    "            print(f\"\\nProcessing: {file_name} (Speaker: {speaker_code}, Comp: {component})\")\n",
    "\n",
    "            # Check if audio file exists\n",
    "            if not os.path.exists(wav_path):\n",
    "                print(f\"  CRITICAL: Audio file not found at '{wav_path}'. Skipping.\")\n",
    "                fallback_pattern = os.path.join(config['AUDIO_ROOT_DIR'], 'audio', 'wav', component, region, f\"{file_root}*.wav\")\n",
    "                matching_files = glob.glob(fallback_pattern)\n",
    "                if matching_files:\n",
    "                    print(f\"  INFO: Found alternative audio file via fallback: {os.path.basename(matching_files[0])}\")\n",
    "                    wav_path = matching_files[0]\n",
    "                    file_name = os.path.basename(wav_path)\n",
    "                else:\n",
    "                    skipped_count += 1\n",
    "                    continue\n",
    "\n",
    "            # Find and Parse Reference (.ort) File\n",
    "            ort_path = find_ort_file(speaker_code, component, file_root, config)\n",
    "            ort_segments = parse_ort_file(ort_path) if ort_path else None\n",
    "            reference_parsed = ort_segments is not None\n",
    "            reference_found_path = ort_path if ort_path else \"\"\n",
    "\n",
    "            if reference_parsed:\n",
    "                print(f\"  Reference found and parsed: {os.path.basename(ort_path)}\")\n",
    "                ort_found_parsed_count +=1\n",
    "            elif ort_path:\n",
    "                print(f\"  Reference file found ({os.path.basename(ort_path)}) but FAILED TO PARSE.\")\n",
    "                ort_found_not_parsed_count += 1\n",
    "            else:\n",
    "                print(f\"  Reference .ort file NOT FOUND.\")\n",
    "                ort_not_found_count += 1\n",
    "\n",
    "            # Transcribe with Whisper (using Hugging Face Pipeline)\n",
    "            print(f\"  Starting transcription with fine-tuned model...\")\n",
    "\n",
    "            try:\n",
    "                pipeline_output = asr_pipeline(\n",
    "                    wav_path,\n",
    "                    chunk_length_s=30, # Recommended for long audio files\n",
    "                    generate_kwargs={\n",
    "                        \"language\": config['TRANSCRIPTION_LANGUAGE'], # Make sure this matches your fine-tuned model's language\n",
    "                        \"task\": \"transcribe\"\n",
    "                        # \"forced_decoder_ids\": None, # Keep if you didn't modify generation_config.json, otherwise optional\n",
    "                        # \"suppress_tokens\": [], # Explicitly set if you want to override model's config\n",
    "                        # \"begin_suppress_tokens\": [220, 50257] # Explicitly set if you want to override model's config\n",
    "                    },\n",
    "                    return_timestamps=True # Gets segment-level timestamps. Use \"word\" for word-level.\n",
    "                )\n",
    "\n",
    "\n",
    "                \n",
    "                transcription = pipeline_output[\"text\"]\n",
    "\n",
    "                # Adapt whisper_segments generation\n",
    "                # pipeline_output[\"chunks\"] (with return_timestamps=True) is a list of dicts:\n",
    "                # [{'text': 'segment text', 'timestamp': (start_time, end_time)}, ...]\n",
    "                # 'words' will be empty as segment-level pipeline output doesn't provide them directly here.\n",
    "                temp_hf_segments = []\n",
    "                for chunk in pipeline_output.get(\"chunks\", []): # .get(\"chunks\", []) is safer\n",
    "                    temp_hf_segments.append({\n",
    "                        'text': chunk['text'],\n",
    "                        'start': chunk['timestamp'][0],\n",
    "                        'end': chunk['timestamp'][1],\n",
    "                        'words': [] # Word-level details not directly available here\n",
    "                    })\n",
    "                # Pass it in the expected dict structure to format_whisper_segments\n",
    "                whisper_segments = format_whisper_segments({\"segments\": temp_hf_segments})\n",
    "                print(f\"  Transcription finished.\")\n",
    "                # print(f\"  DEBUG: Whisper Segments: {whisper_segments[:2]}\") # For debugging\n",
    "            except Exception as e:\n",
    "                print(f\"  ERROR during Whisper transcription: {e}\")\n",
    "                import traceback\n",
    "                traceback.print_exc()\n",
    "                skipped_count += 1\n",
    "                continue\n",
    "\n",
    "            # Prepare Data for WER analysis file\n",
    "            wer_data = prepare_wer_data(whisper_segments, ort_segments if reference_parsed else [])\n",
    "\n",
    "            # Save detailed JSON and simple TXT\n",
    "            output_data = {\n",
    "                'original_wav_path': wav_path,\n",
    "                'speaker_code': speaker_code,\n",
    "                'component': component,\n",
    "                'file_root': file_root,\n",
    "                'transcription': transcription,\n",
    "                'whisper_segments': whisper_segments,\n",
    "                'ort_segments': ort_segments if reference_parsed else [],\n",
    "                'wer_data': wer_data,\n",
    "                'reference_found_path': reference_found_path,\n",
    "                'reference_parsed': reference_parsed,\n",
    "                # The pipeline itself doesn't usually return 'language' in the main output dict\n",
    "                # The language is part of the model's config or specified in generate_kwargs\n",
    "                'language_used_for_generation': config['TRANSCRIPTION_LANGUAGE'],\n",
    "            }\n",
    "            save_results(config['OUTPUT_DIR'], file_base_name, output_data)\n",
    "\n",
    "            # Collect summary info\n",
    "            results_summary.append({\n",
    "                \"processed_wav_file\": file_name,\n",
    "                \"speaker_code\": speaker_code,\n",
    "                \"component\": component,\n",
    "                \"file_root\": file_root,\n",
    "                \"transcription\": transcription,\n",
    "                \"reference_found_path\": reference_found_path,\n",
    "                \"reference_parsed\": reference_parsed,\n",
    "                \"ref_text_preview\": (\" \".join(s['text'] for s in ort_segments)[:80]+\"...\" if reference_parsed and ort_segments else \"\"),\n",
    "                \"num_whisper_segments\": len(whisper_segments),\n",
    "                \"num_ort_segments\": len(ort_segments) if reference_parsed and ort_segments else 0,\n",
    "            })\n",
    "            processed_count += 1\n",
    "\n",
    "        except Exception as loop_error:\n",
    "             print(f\"!! Unexpected Error processing recording at index {index}: {loop_error}\")\n",
    "             print(f\"   Row data: {row.to_dict()}\")\n",
    "             traceback.print_exc()\n",
    "             skipped_count += 1\n",
    "\n",
    "    # --- Group Summary ---\n",
    "    end_time_group = time.time()\n",
    "    total_time_group = end_time_group - start_time_group\n",
    "    num_processed_successfully = processed_count\n",
    "\n",
    "    print(f\"\\n--- {config['GROUP_NAME']} Processing Summary ---\")\n",
    "    print(f\"Selected {len(recordings_to_process)} recordings for processing.\")\n",
    "    print(f\"Successfully processed: {num_processed_successfully}\")\n",
    "    print(f\"Skipped due to errors/missing files: {skipped_count}\")\n",
    "    print(f\"Total processing time: {total_time_group:.2f} seconds\")\n",
    "    if num_processed_successfully > 0:\n",
    "        print(f\"Avg. time per processed file: {total_time_group / num_processed_successfully:.2f} seconds\")\n",
    "\n",
    "    print(f\"\\n--- {config['GROUP_NAME']} Reference File Summary ---\")\n",
    "    print(f\"Found & Parsed: {ort_found_parsed_count}\")\n",
    "    print(f\"Found but Failed to Parse: {ort_found_not_parsed_count}\")\n",
    "    print(f\"Not Found: {ort_not_found_count}\")\n",
    "    if num_processed_successfully > 0:\n",
    "        parse_success_rate = (ort_found_parsed_count / num_processed_successfully) * 100\n",
    "        print(f\"Parse Success Rate (of processed files): {parse_success_rate:.1f}%\")\n",
    "\n",
    "    # --- Save Group Summary CSV ---\n",
    "    if results_summary:\n",
    "        summary_df = pd.DataFrame(results_summary)\n",
    "        csv_path = os.path.join(config['OUTPUT_DIR'], f\"transcription_summary_{config['GROUP_NAME']}.csv\")\n",
    "        try:\n",
    "            summary_df.to_csv(csv_path, index=False, encoding='utf-8-sig')\n",
    "            print(f\"\\nSummary results for {config['GROUP_NAME']} saved to: {csv_path}\")\n",
    "        except Exception as e:\n",
    "            print(f\"\\nError saving summary CSV for {config['GROUP_NAME']}: {e}\")\n",
    "\n",
    "    # --- Generate Group WER Analysis File ---\n",
    "    generate_wer_analysis_file(results_summary, config['OUTPUT_DIR'], config['GROUP_NAME'])\n",
    "\n",
    "    print(f\"===== Finished Group: {config['GROUP_NAME']} =====\")\n",
    "\n",
    "\n",
    "if __name__ == \"__main__\":\n",
    "    main()\n"
   ]
  },
  {
   "cell_type": "code",
   "execution_count": null,
   "id": "cc493fc6-a8f7-4d80-b72f-562dfebb40c4",
   "metadata": {},
   "outputs": [],
   "source": []
  }
 ],
 "metadata": {
  "kernelspec": {
   "display_name": "My Environment",
   "language": "python",
   "name": "myenv"
  },
  "language_info": {
   "codemirror_mode": {
    "name": "ipython",
    "version": 3
   },
   "file_extension": ".py",
   "mimetype": "text/x-python",
   "name": "python",
   "nbconvert_exporter": "python",
   "pygments_lexer": "ipython3",
   "version": "3.10.14"
  }
 },
 "nbformat": 4,
 "nbformat_minor": 5
}
